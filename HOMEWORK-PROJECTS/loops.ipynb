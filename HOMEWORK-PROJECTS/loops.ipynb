{
 "cells": [
  {
   "cell_type": "markdown",
   "metadata": {},
   "source": [
    "Write a program that prints the first 20 even numbers. There are several correct approaches, but they all use a loop of some sort. Do no write twenty print statements"
   ]
  },
  {
   "cell_type": "code",
   "execution_count": 67,
   "metadata": {},
   "outputs": [
    {
     "name": "stdout",
     "output_type": "stream",
     "text": [
      "2 is even number\n",
      "4 is even number\n",
      "6 is even number\n",
      "8 is even number\n",
      "10 is even number\n",
      "12 is even number\n",
      "14 is even number\n",
      "16 is even number\n",
      "18 is even number\n",
      "20 is even number\n"
     ]
    }
   ],
   "source": [
    "for i in range(1,21):\n",
    "    if i % 2 == 0:\n",
    "        print(f\"{i} is even number\")\n",
    "\n"
   ]
  },
  {
   "cell_type": "code",
   "execution_count": 66,
   "metadata": {},
   "outputs": [
    {
     "data": {
      "text/plain": [
       "['1 is odd number',\n",
       " '2 is even number',\n",
       " '3 is odd number',\n",
       " '4 is even number',\n",
       " '5 is odd number',\n",
       " '6 is even number',\n",
       " '7 is odd number',\n",
       " '8 is even number',\n",
       " '9 is odd number',\n",
       " '10 is even number',\n",
       " '11 is odd number',\n",
       " '12 is even number',\n",
       " '13 is odd number',\n",
       " '14 is even number',\n",
       " '15 is odd number',\n",
       " '16 is even number',\n",
       " '17 is odd number',\n",
       " '18 is even number',\n",
       " '19 is odd number',\n",
       " '20 is even number']"
      ]
     },
     "execution_count": 66,
     "metadata": {},
     "output_type": "execute_result"
    }
   ],
   "source": [
    "[(f\"{i} is even number\") if i % 2 == 0 else (f\"{i} is odd number\") for i in range(1,21)]\n",
    "# print(even_number)\n",
    "       \n"
   ]
  },
  {
   "cell_type": "code",
   "execution_count": 29,
   "metadata": {},
   "outputs": [
    {
     "data": {
      "text/plain": [
       "[False,\n",
       " True,\n",
       " False,\n",
       " True,\n",
       " False,\n",
       " True,\n",
       " False,\n",
       " True,\n",
       " False,\n",
       " True,\n",
       " False,\n",
       " True,\n",
       " False,\n",
       " True,\n",
       " False,\n",
       " True,\n",
       " False,\n",
       " True,\n",
       " False,\n",
       " True]"
      ]
     },
     "execution_count": 29,
     "metadata": {},
     "output_type": "execute_result"
    }
   ],
   "source": [
    "[ ( i % 2 == 0 ) for i in range(1,21)]"
   ]
  },
  {
   "cell_type": "code",
   "execution_count": 5,
   "metadata": {},
   "outputs": [
    {
     "name": "stdout",
     "output_type": "stream",
     "text": [
      "[(1, 'odd'), (2, 'even'), (3, 'odd'), (4, 'even'), (5, 'odd'), (6, 'even'), (7, 'odd'), (8, 'even'), (9, 'odd'), (10, 'even'), (11, 'odd'), (12, 'even'), (13, 'odd'), (14, 'even'), (15, 'odd'), (16, 'even'), (17, 'odd'), (18, 'even'), (19, 'odd'), (20, 'even')]\n"
     ]
    }
   ],
   "source": [
    "even_numbers = [(i, \"even\") if i % 2 == 0 else (i, \"odd\") for i in range(1, 21)]\n",
    "print(even_numbers)\n"
   ]
  },
  {
   "cell_type": "code",
   "execution_count": 6,
   "metadata": {},
   "outputs": [
    {
     "data": {
      "text/plain": [
       "['',\n",
       " '2 is even',\n",
       " '',\n",
       " '4 is even',\n",
       " '',\n",
       " '6 is even',\n",
       " '',\n",
       " '8 is even',\n",
       " '',\n",
       " '10 is even',\n",
       " '',\n",
       " '12 is even',\n",
       " '',\n",
       " '14 is even',\n",
       " '',\n",
       " '16 is even',\n",
       " '',\n",
       " '18 is even',\n",
       " '',\n",
       " '20 is even']"
      ]
     },
     "execution_count": 6,
     "metadata": {},
     "output_type": "execute_result"
    }
   ],
   "source": [
    "[f\"{i} is even\" if i % 2 == 0 else '' for i in range(1,21)]"
   ]
  },
  {
   "cell_type": "code",
   "execution_count": 10,
   "metadata": {},
   "outputs": [
    {
     "name": "stdout",
     "output_type": "stream",
     "text": [
      "2 is an even number\n",
      "4 is an even number\n",
      "6 is an even number\n",
      "8 is an even number\n",
      "10 is an even number\n",
      "12 is an even number\n",
      "14 is an even number\n",
      "16 is an even number\n",
      "18 is an even number\n",
      "20 is an even number\n",
      "22 is an even number\n",
      "24 is an even number\n",
      "26 is an even number\n",
      "28 is an even number\n",
      "30 is an even number\n",
      "32 is an even number\n",
      "34 is an even number\n",
      "36 is an even number\n",
      "38 is an even number\n",
      "40 is an even number\n"
     ]
    }
   ],
   "source": [
    "even_numbers = [f\"{i} is an even number\" for i in range(1, 41) if i % 2 == 0]\n",
    "print(\"\\n\".join(even_numbers))\n"
   ]
  },
  {
   "cell_type": "code",
   "execution_count": null,
   "metadata": {},
   "outputs": [],
   "source": [
    "# Initialize an empty dictionary to store contacts\n",
    "phonebook = {}\n",
    "\n",
    "def add_contact():\n",
    "    \"\"\"Function to add a contact to the phonebook.\"\"\"\n",
    "    name = input(\"Enter the contact's name: \")\n",
    "    phone_number = input(f\"Enter {name}'s phone number: \")\n",
    "    \n",
    "    # Check if the contact already exists in the phonebook\n",
    "    if name in phonebook:\n",
    "        print(f\"{name} already exists in the phonebook. Updating the phone number.\")\n",
    "    \n",
    "    # Add or update the contact's phone number\n",
    "    phonebook[name] = phone_number\n",
    "    print(f\"Contact for {name} added/updated.\")\n",
    "\n",
    "def view_contacts():\n",
    "    \"\"\"Function to view all contacts in the phonebook.\"\"\"\n",
    "    if not phonebook:\n",
    "        print(\"The phonebook is empty.\")\n",
    "    else:\n",
    "        print(\"Phonebook Contacts:\")\n",
    "        for name, number in phonebook.items():\n",
    "            print(f\"{name}: {number}\")\n",
    "\n",
    "def delete_contact():\n",
    "    \"\"\"Function to delete a contact from the phonebook.\"\"\"\n",
    "    name = input(\"Enter the name of the contact to delete: \")\n",
    "    \n",
    "    # Check if the contact exists in the phonebook\n",
    "    if name in phonebook:\n",
    "        del phonebook[name]\n",
    "        print(f\"Contact for {name} has been deleted.\")\n",
    "    else:\n",
    "        print(f\"No contact found for {name}.\")\n",
    "\n",
    "def main():\n",
    "    \"\"\"Main function to run the phonebook.\"\"\"\n",
    "    while True:\n",
    "        print(\"\\nPhonebook Menu:\")\n",
    "        print(\"1. Add a contact\")\n",
    "        print(\"2. View all contacts\")\n",
    "        print(\"3. Delete a contact\")\n",
    "        print(\"4. Exit\")\n",
    "        \n",
    "        # Prompt the user to choose an option\n",
    "        choice = input(\"Please enter your choice (1-4): \")\n",
    "        \n",
    "        if choice == '1':\n",
    "            add_contact()\n",
    "        elif choice == '2':\n",
    "            view_contacts()\n",
    "        elif choice == '3':\n",
    "            delete_contact()\n",
    "        elif choice == '4':\n",
    "            print(\"Exiting the phonebook. Goodbye!\")\n",
    "            break\n",
    "        else:\n",
    "            print(\"Invalid choice. Please select a valid option.\")\n",
    "\n",
    "# Run the phonebook program\n",
    "if __name__ == \"__main__\":\n",
    "    main()\n"
   ]
  }
 ],
 "metadata": {
  "kernelspec": {
   "display_name": "Python 3",
   "language": "python",
   "name": "python3"
  },
  "language_info": {
   "codemirror_mode": {
    "name": "ipython",
    "version": 3
   },
   "file_extension": ".py",
   "mimetype": "text/x-python",
   "name": "python",
   "nbconvert_exporter": "python",
   "pygments_lexer": "ipython3",
   "version": "3.13.2"
  }
 },
 "nbformat": 4,
 "nbformat_minor": 2
}
