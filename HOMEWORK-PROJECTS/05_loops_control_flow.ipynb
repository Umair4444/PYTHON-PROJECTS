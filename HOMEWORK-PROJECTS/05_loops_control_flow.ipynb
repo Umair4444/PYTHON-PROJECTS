{
 "cells": [
  {
   "cell_type": "markdown",
   "metadata": {},
   "source": [
    "* Guess My Number"
   ]
  },
  {
   "cell_type": "code",
   "execution_count": 3,
   "metadata": {},
   "outputs": [
    {
     "name": "stdout",
     "output_type": "stream",
     "text": [
      "Your guess is too low\n",
      "Your guess is too high\n",
      "Your guess is too high\n",
      "Your guess is too high\n",
      "Congrats! The number was: 3\n"
     ]
    }
   ],
   "source": [
    "import random\n",
    "\n",
    "def guess_my_number():\n",
    "    # The computer thinks of a random number between 0 and 20\n",
    "    number_to_guess = random.randint(1, 20)\n",
    "    \n",
    "    # Variable to track if the user has guessed correctly\n",
    "    guessed_correctly = False\n",
    "    \n",
    "    # Loop until the user guesses correctly\n",
    "    while not guessed_correctly:\n",
    "        # Ask the user to make a guess\n",
    "        user_guess = int(input(\"Enter a guess: \"))\n",
    "        \n",
    "        # Check if the guess is too high, too low, or correct\n",
    "        if user_guess > number_to_guess:\n",
    "            print(\"Your guess is too high\")\n",
    "        elif user_guess < number_to_guess:\n",
    "            print(\"Your guess is too low\")\n",
    "        else:\n",
    "            guessed_correctly = True\n",
    "            print(f\"Congrats! The number was: {number_to_guess}\")\n",
    "\n",
    "# Call the function to start the game\n",
    "guess_my_number()\n",
    "\n"
   ]
  },
  {
   "cell_type": "markdown",
   "metadata": {},
   "source": [
    "* Write a program to print terms in the Fibonacci sequence up to a maximum value."
   ]
  },
  {
   "cell_type": "code",
   "execution_count": 4,
   "metadata": {},
   "outputs": [
    {
     "name": "stdout",
     "output_type": "stream",
     "text": [
      "Current term: 0, Next term: 1, Term after next: 1\n",
      "Current term: 1, Next term: 1, Term after next: 2\n",
      "Current term: 1, Next term: 2, Term after next: 3\n",
      "Current term: 2, Next term: 3, Term after next: 5\n",
      "Current term: 3, Next term: 5, Term after next: 8\n",
      "Current term: 5, Next term: 8, Term after next: 13\n",
      "Current term: 8, Next term: 13, Term after next: 21\n"
     ]
    }
   ],
   "source": [
    "MAX_TERM_VALUE : int = 10  # Adjust as needed, for now set it to 10 to allow more terms\n",
    "\n",
    "def main():\n",
    "    curr_term = 0  # The 1st Fibonacci Number (Fib(1))\n",
    "    next_term = 1  # The 2nd Fibonacci Number (Fib(2))\n",
    "    \n",
    "    # Start the loop from the 2nd term onwards\n",
    "    while curr_term <= MAX_TERM_VALUE:\n",
    "        term_after_next = curr_term + next_term\n",
    "        print(f\"Current term: {curr_term}, Next term: {next_term}, Term after next: {term_after_next}\")\n",
    "        \n",
    "        # Update to the next Fibonacci term\n",
    "        curr_term, next_term = next_term, term_after_next\n",
    "\n",
    "# Run the program\n",
    "main()"
   ]
  },
  {
   "cell_type": "markdown",
   "metadata": {},
   "source": [
    "* Write a program which prompts the user to type an affirmation of your choice (we'll use \"I am capable of doing anything I put my mind to.\") until they type it correctly. Sometimes, especially in the midst of such uncertain times, we just need to be reminded that we are resilient, capable, and strong; this little Python program may be able to help!"
   ]
  },
  {
   "cell_type": "code",
   "execution_count": 5,
   "metadata": {},
   "outputs": [
    {
     "name": "stdout",
     "output_type": "stream",
     "text": [
      "Hmmm That was not the affirmation.\n"
     ]
    }
   ],
   "source": [
    "# Define the affirmation text\n",
    "affirmation = \"Lock the answer\"\n",
    "\n",
    "def main():\n",
    "    # Prompt the user for input until they type the affirmation correctly\n",
    "    while True:\n",
    "        user_input = input(\"Please type the following affirmation: or 'q' to exit\")\n",
    "        \n",
    "        # Check if the user input matches the affirmation\n",
    "        if user_input.lower() == affirmation.lower():\n",
    "            print(\"That's right! :)\")\n",
    "            break  # Exit the loop if the user types it correctly\n",
    "        elif user_input == \"q\":\n",
    "            break\n",
    "        else:\n",
    "            print(\"Hmmm That was not the affirmation.\")\n",
    "    \n",
    "# Run the program\n",
    "main()\n"
   ]
  },
  {
   "cell_type": "markdown",
   "metadata": {},
   "source": [
    "* Write a program that prints out the calls for a spaceship that is about to launch. Countdown from 10 to 1 and then output Liftoff!"
   ]
  },
  {
   "cell_type": "code",
   "execution_count": null,
   "metadata": {},
   "outputs": [
    {
     "name": "stdout",
     "output_type": "stream",
     "text": [
      "10 9 8 7 6 5 4 3 2 1 Liftoff!\n"
     ]
    }
   ],
   "source": [
    "import time\n",
    "\n",
    "for i in range(10, 0, -1):  # Start at 10, go down to 1\n",
    "    time.sleep(1)  # Wait for 1 second\n",
    "    print(i, end=\" \")  # Print numbers on the same line with space\n",
    "print(\"Liftoff!\")  # Printing Liftoff! after the countdown\n"
   ]
  },
  {
   "cell_type": "markdown",
   "metadata": {},
   "source": [
    "* Write a program that asks a user to enter a number. Your program will then double that number and print out the result. It will repeat that process until the value is 100 or greater."
   ]
  },
  {
   "cell_type": "code",
   "execution_count": null,
   "metadata": {},
   "outputs": [
    {
     "name": "stdout",
     "output_type": "stream",
     "text": [
      "4 8 16 32 64 "
     ]
    }
   ],
   "source": [
    "# Ask the user to enter a number\n",
    "curr_value = int(input(\"Enter a number: \"))\n",
    "\n",
    "# Loop until the next doubled value would be 100 or more\n",
    "while curr_value * 2 < 100: # true if less than 100\n",
    "    curr_value *= 2  # Double the current value\n",
    "    print(curr_value, end=\" \")  # Print the number on the same line\n"
   ]
  }
 ],
 "metadata": {
  "kernelspec": {
   "display_name": "Python 3",
   "language": "python",
   "name": "python3"
  },
  "language_info": {
   "codemirror_mode": {
    "name": "ipython",
    "version": 3
   },
   "file_extension": ".py",
   "mimetype": "text/x-python",
   "name": "python",
   "nbconvert_exporter": "python",
   "pygments_lexer": "ipython3",
   "version": "3.13.2"
  }
 },
 "nbformat": 4,
 "nbformat_minor": 2
}
