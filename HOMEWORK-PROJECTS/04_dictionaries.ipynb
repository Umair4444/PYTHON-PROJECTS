{
 "cells": [
  {
   "cell_type": "markdown",
   "metadata": {},
   "source": [
    "* This program counts the number of times each number appears in a list. It uses a dictionary to keep track of the information."
   ]
  },
  {
   "cell_type": "code",
   "execution_count": 19,
   "metadata": {},
   "outputs": [
    {
     "name": "stdout",
     "output_type": "stream",
     "text": [
      "3 appears 1 times.\n",
      "4 appears 2 times.\n",
      "5 appears 1 times.\n",
      "2 appears 1 times.\n",
      "7 appears 1 times.\n",
      "8 appears 2 times.\n"
     ]
    }
   ],
   "source": [
    "# Initialize an empty dictionary to keep track of number counts\n",
    "number_count = {}\n",
    "\n",
    "# Prompt the user for input until they enter an empty input (stop condition)\n",
    "while True:\n",
    "    user_input = input(\"Enter a number: \")\n",
    "    \n",
    "    # If the user enters nothing (presses enter without input), break the loop\n",
    "    if user_input == \"\":\n",
    "        break\n",
    "    \n",
    "    # Convert the input to an integer\n",
    "    number = int(user_input)\n",
    "    \n",
    "    # If the number is already in the dictionary, increment its count\n",
    "    if number in number_count:\n",
    "        number_count[number] += 1\n",
    "        # print(\"key\",number)\n",
    "        # print(\"val\",number_count[number])\n",
    "    else:\n",
    "        # If the number is not in the dictionary, add it with a count of 1\n",
    "        number_count[number] = 1\n",
    "\n",
    "# Display the counts for each number\n",
    "for number, count in number_count.items():\n",
    "    print(f\"{number} appears {count} times.\")\n",
    "    # print(\"key\",number)\n",
    "    # print(\"val\",count)\n"
   ]
  },
  {
   "cell_type": "markdown",
   "metadata": {},
   "source": [
    "* In this program we show an example of using dictionaries to keep track of information in a phonebook."
   ]
  },
  {
   "cell_type": "code",
   "execution_count": 6,
   "metadata": {},
   "outputs": [
    {
     "name": "stdout",
     "output_type": "stream",
     "text": [
      "Adding ali to the phonebook.\n",
      "ali already exists in the phonebook.\n",
      "Adding  to the phonebook.\n",
      "\n",
      "Phonebook Contacts:\n",
      "ali: 123\n",
      ": q\n"
     ]
    }
   ],
   "source": [
    "phonebook = {}\n",
    "\n",
    "def add_contact():\n",
    "    \"\"\"Function to add a contact to the phonebook.\"\"\"\n",
    "    name = input(\"Enter the contact's name (or type 'q' to stop): \")\n",
    "    \n",
    "    phone_number = input(f\"Enter {name}'s phone number: \")\n",
    "\n",
    "    # If the user enters 'quit', stop the loop\n",
    "    if name.lower() == 'q':\n",
    "        return False\n",
    "\n",
    "    # Check if the contact already exists in the phonebook\n",
    "    if name in phonebook:\n",
    "        print(f\"{name} already exists in the phonebook.\")\n",
    "    else:\n",
    "        # Add the contact\n",
    "        print(f\"Adding {name} to the phonebook.\")\n",
    "        phonebook[name] = phone_number\n",
    "    return True\n",
    "\n",
    "def main():\n",
    "    while True:\n",
    "        if not add_contact():\n",
    "            break  # Exit the loop if the user types 'quit'\n",
    "    \n",
    "    print(\"\\nPhonebook Contacts:\")\n",
    "\n",
    "    for name, number in phonebook.items():\n",
    "        print(f\"{name}: {number}\")\n",
    "\n",
    "# Run the program\n",
    "main()"
   ]
  },
  {
   "cell_type": "code",
   "execution_count": 13,
   "metadata": {},
   "outputs": [
    {
     "name": "stdout",
     "output_type": "stream",
     "text": [
      "Adding abc to the phonebook.\n",
      "\n",
      "Phonebook Contacts:\n",
      "abc phone/mobile number is 123\n"
     ]
    }
   ],
   "source": [
    "phonebook = {}\n",
    "\n",
    "def add_contact():\n",
    "    \"\"\"Function to add a contact to the phonebook.\"\"\"\n",
    "\n",
    "    name = input(\"Enter the contact's name (or type 'q' to stop): \")\n",
    "    \n",
    "    # If the user enters 'q', stop the loop before asking for a phone number\n",
    "    if name.lower() == 'q':\n",
    "        return False\n",
    "    \n",
    "    phone_number = input(f\"Enter {name}'s phone number: \")\n",
    "\n",
    "    # Check if the contact already exists in the phonebook\n",
    "    if name in phonebook:\n",
    "        print(f\"{name} already exists in the phonebook. Updating the phone number.\")\n",
    "    else:\n",
    "        print(f\"Adding {name} to the phonebook.\")\n",
    "\n",
    "    phonebook[name] = phone_number  # Update or add the contact\n",
    "    return True\n",
    "\n",
    "def main():\n",
    "    while add_contact():  # Calls `add_contact()` in a loop\n",
    "        pass  # Continue until `add_contact()` returns False\n",
    "    \n",
    "    print(\"\\nPhonebook Contacts:\")\n",
    "    for name, number in phonebook.items():\n",
    "        print(f\"{name} phone/mobile number is {number}\")\n",
    "\n",
    "# Run the program\n",
    "main()\n"
   ]
  },
  {
   "cell_type": "markdown",
   "metadata": {},
   "source": [
    "* There's a small fruit shop nearby your house that you like to buy from. Since you buy several fruit at a time, you want to keep track of how much the fruit will cost before you go. Luckily you wrote down what fruits were available and how much one of each fruit costs. \n",
    "\n",
    "* Write a program that loops through a dictionary of fruits, prompting the user to see how many of each fruit they want to buy, and then prints out the total combined cost of all of the fruits."
   ]
  },
  {
   "cell_type": "code",
   "execution_count": 5,
   "metadata": {},
   "outputs": [
    {
     "name": "stdout",
     "output_type": "stream",
     "text": [
      "\n",
      "Total cost of all fruits: $3.50\n"
     ]
    }
   ],
   "source": [
    "# Dictionary storing available fruits and their prices per unit\n",
    "fruit_prices = {\n",
    "    \"apple\": 1.5,\n",
    "    \"banana\": 0.5,\n",
    "    \"orange\": 0.8,\n",
    "    \"grape\": 2.0,\n",
    "    \"mango\": 1.2\n",
    "}\n",
    "\n",
    "# Initialize total cost\n",
    "total_cost = 0\n",
    "\n",
    "# Loop through each fruit in the dictionary\n",
    "for fruit, price in fruit_prices.items():\n",
    "    while True:\n",
    "        try:\n",
    "            quantity = input(f\"How many {fruit}s would you like to buy? (Press Enter to skip): \")\n",
    "            \n",
    "            # Set default quantity to 0 if input is empty\n",
    "            if quantity.strip() == \"\":\n",
    "                quantity = 0\n",
    "            else:\n",
    "                quantity = int(quantity)  # Convert input to integer\n",
    "            \n",
    "            # Ensure quantity is not negative\n",
    "            if quantity < 0:\n",
    "                print(\"Please enter a valid positive number or 0.\")\n",
    "                continue\n",
    "            \n",
    "            # Calculate cost and add to total\n",
    "            total_cost += quantity * price\n",
    "            break  # Exit loop if input is valid\n",
    "        \n",
    "        except ValueError:\n",
    "            print(\"Invalid input! Please enter a valid number.\")\n",
    "\n",
    "# Display the total cost\n",
    "print(f\"\\nTotal cost of all fruits: ${total_cost:.2f}\")\n"
   ]
  },
  {
   "cell_type": "markdown",
   "metadata": {},
   "source": [
    "* You want to be safe online and use different passwords for different websites. However, you are forgetful at times and want to make a program that can match which password belongs to which website without storing the actual password!"
   ]
  },
  {
   "cell_type": "code",
   "execution_count": null,
   "metadata": {},
   "outputs": [],
   "source": []
  },
  {
   "cell_type": "code",
   "execution_count": 21,
   "metadata": {},
   "outputs": [
    {
     "name": "stdout",
     "output_type": "stream",
     "text": [
      "True\n",
      "True\n",
      "False\n",
      "False\n",
      "True\n"
     ]
    }
   ],
   "source": [
    "import hashlib\n",
    "\n",
    "def hash_password(password: str) -> str:\n",
    "    \"\"\"Hashes a password using SHA256 and returns the hexadecimal hash.\"\"\"\n",
    "    return hashlib.sha256(password.encode()).hexdigest()\n",
    "\n",
    "def login(email: str, password_to_check: str, stored_logins: dict) -> bool:\n",
    "    \"\"\"Checks if the entered password matches the stored hashed password.\"\"\"\n",
    "    # Hash the entered password\n",
    "    hashed_password = hash_password(password_to_check)\n",
    "    \n",
    "    # Compare it with the stored hash\n",
    "    return stored_logins.get(email) == hashed_password\n",
    "\n",
    "# Example stored logins (email -> hashed password)\n",
    "stored_logins = {\n",
    "    \"user@example.com\": hash_password(\"mypassword123\"),\n",
    "    \"admin@example.com\": hash_password(\"admin\"),\n",
    "    \"admin\" : hash_password(\"admin\") \n",
    "}\n",
    "\n",
    "# Testing the login function\n",
    "print(login(\"user@example.com\", \"mypassword123\", stored_logins))  # True (Correct password)\n",
    "print(login( \"admin@example.com\", \"admin\", stored_logins))  # True (Correct password)\n",
    "print(login(\"user@example.com\", \"wrongpassword\", stored_logins))  # False (Wrong password)\n",
    "print(login(\"notfound@example.com\", \"mypassword123\", stored_logins))  # False (Email not stored)\n",
    "\n",
    "username = input(\"Enter your username: \")\n",
    "password = input(\"Enter your password: \")\n",
    "\n",
    "print(login( username, password, stored_logins))  # check yourself\n"
   ]
  }
 ],
 "metadata": {
  "kernelspec": {
   "display_name": "Python 3",
   "language": "python",
   "name": "python3"
  },
  "language_info": {
   "codemirror_mode": {
    "name": "ipython",
    "version": 3
   },
   "file_extension": ".py",
   "mimetype": "text/x-python",
   "name": "python",
   "nbconvert_exporter": "python",
   "pygments_lexer": "ipython3",
   "version": "3.13.2"
  }
 },
 "nbformat": 4,
 "nbformat_minor": 2
}
