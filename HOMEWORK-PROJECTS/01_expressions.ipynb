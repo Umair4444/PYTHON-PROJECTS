{
 "cells": [
  {
   "cell_type": "markdown",
   "metadata": {},
   "source": [
    "* Simulate rolling two dice, three times. Prints the results of each die roll. This program is used to show how variable scope works."
   ]
  },
  {
   "cell_type": "code",
   "execution_count": 2,
   "metadata": {},
   "outputs": [
    {
     "name": "stdout",
     "output_type": "stream",
     "text": [
      "Roll 1: Die 1 = 4, Die 2 = 1\n",
      "Roll 2: Die 1 = 2, Die 2 = 2\n",
      "Roll 3: Die 1 = 6, Die 2 = 3\n"
     ]
    }
   ],
   "source": [
    "import random\n",
    "\n",
    "# Simulate rolling two dice three times\n",
    "for roll in range(3):\n",
    "    die1 = random.randint(1, 6)  # Roll the first die\n",
    "    die2 = random.randint(1, 6)  # Roll the second die\n",
    "    print(f\"Roll {roll + 1}: Die 1 = {die1}, Die 2 = {die2}\")\n"
   ]
  },
  {
   "cell_type": "markdown",
   "metadata": {},
   "source": [
    "* Write a program that continually reads in mass from the user and then outputs the equivalent energy using Einstein's mass-energy equivalence formula (E stands for energy, m stands for mass, and C is the speed of light:"
   ]
  },
  {
   "cell_type": "code",
   "execution_count": null,
   "metadata": {},
   "outputs": [
    {
     "name": "stdout",
     "output_type": "stream",
     "text": [
      "Exiting the program.\n"
     ]
    }
   ],
   "source": [
    "# Speed of light in meters per second (m/s)\n",
    "c = 299792458  \n",
    "\n",
    "# Continuously read mass and calculate energy\n",
    "while True:\n",
    "    user_input = input(\"Enter mass in kilograms (or type 'exit' or 'q' to quit): \").strip().lower()\n",
    "    \n",
    "    if user_input in [\"exit\", \"q\"]:\n",
    "        print(\"Exiting the program.\")\n",
    "        break\n",
    "    \n",
    "    try:\n",
    "        # Convert the input to a float\n",
    "        mass = float(user_input)\n",
    "        \n",
    "        # Calculate energy\n",
    "        energy = mass * c ** 2\n",
    "        \n",
    "        # Output the result\n",
    "        print(f\"The equivalent energy is {energy } joules.\")\n",
    "    \n",
    "    except ValueError:\n",
    "        print(\"Invalid input! Please enter a valid mass or type 'exit' or 'q' to quit.\")\n"
   ]
  },
  {
   "cell_type": "markdown",
   "metadata": {},
   "source": [
    "* Converts feet to inches. Feet is an American unit of measurement. There are 12 inches per foot. Foot is the singular, and feet is the plural."
   ]
  },
  {
   "cell_type": "code",
   "execution_count": 15,
   "metadata": {},
   "outputs": [
    {
     "name": "stdout",
     "output_type": "stream",
     "text": [
      "<class 'str'>\n",
      "1.0 foot is equal to 12.0 inches.\n"
     ]
    }
   ],
   "source": [
    "# Conversion factor\n",
    "INCHES_PER_FOOT = 12\n",
    "\n",
    "# Ask the user for input\n",
    "feet = float(input(\"Enter length in feet: \"))\n",
    "\n",
    "# Convert feet to inches\n",
    "inches = feet * INCHES_PER_FOOT\n",
    "\n",
    "# Print the result\n",
    "unit = \"foot\" if feet == 1 else \"feet\"\n",
    "print(type(unit))\n",
    "print(f\"{feet} {unit} is equal to {inches} inches.\")\n"
   ]
  },
  {
   "cell_type": "markdown",
   "metadata": {},
   "source": [
    "* Write a program that asks the user for the lengths of the two perpendicular sides of a right triangle and outputs the length of the third side (the hypotenuse) using the Pythagorean theorem!"
   ]
  },
  {
   "cell_type": "code",
   "execution_count": 16,
   "metadata": {},
   "outputs": [
    {
     "name": "stdout",
     "output_type": "stream",
     "text": [
      "The length of BC (the hypotenuse) is: 4.47213595499958\n"
     ]
    }
   ],
   "source": [
    "import math\n",
    "\n",
    "# Ask for the lengths of the two perpendicular sides\n",
    "ab = float(input(\"Enter the length of AB: \"))\n",
    "ac = float(input(\"Enter the length of AC: \"))\n",
    "\n",
    "# Calculate the hypotenuse (BC) using the Pythagorean theorem\n",
    "bc = math.sqrt(ab ** 2 + ac ** 2)\n",
    "\n",
    "# Print the result\n",
    "print(f\"The length of BC (the hypotenuse) is: {bc}\")\n"
   ]
  },
  {
   "cell_type": "markdown",
   "metadata": {},
   "source": [
    "* Ask the user for two numbers, one at a time, and then print the result of dividing the first number by the second and also the remainder of the division."
   ]
  },
  {
   "cell_type": "code",
   "execution_count": 18,
   "metadata": {},
   "outputs": [
    {
     "name": "stdout",
     "output_type": "stream",
     "text": [
      "The result of this division is 1 with a remainder of 0\n"
     ]
    }
   ],
   "source": [
    "# Ask the user for two numbers\n",
    "num1 = int(input(\"Please enter an integer to be divided: \"))\n",
    "num2 = int(input(\"Please enter an integer to divide by: \"))\n",
    "\n",
    "# Perform division\n",
    "quotient = num1 // num2  # Integer division\n",
    "remainder = num1 % num2  # Remainder\n",
    "\n",
    "# Print the result\n",
    "print(f\"The result of this division is {quotient} with a remainder of {remainder}\")\n"
   ]
  },
  {
   "cell_type": "markdown",
   "metadata": {},
   "source": [
    "* Simulate rolling two dice, and prints results of each roll as well as the total."
   ]
  },
  {
   "cell_type": "code",
   "execution_count": 19,
   "metadata": {},
   "outputs": [
    {
     "name": "stdout",
     "output_type": "stream",
     "text": [
      "Die 1: 3\n",
      "Die 2: 2\n",
      "Total: 5\n"
     ]
    }
   ],
   "source": [
    "import random\n",
    "\n",
    "# Simulate rolling two dice\n",
    "die1 = random.randint(1, 6)\n",
    "die2 = random.randint(1, 6)\n",
    "\n",
    "# Calculate total\n",
    "total = die1 + die2\n",
    "\n",
    "# Print the results\n",
    "print(f\"Die 1: {die1}\")\n",
    "print(f\"Die 2: {die2}\")\n",
    "print(f\"Total: {total}\")\n"
   ]
  },
  {
   "cell_type": "markdown",
   "metadata": {},
   "source": [
    "* Use Python to calculate the number of seconds in a year, and tell the user what the result is in a nice print statement that looks like this (of course the value 5 should be the calculated number instead):"
   ]
  },
  {
   "cell_type": "code",
   "execution_count": 37,
   "metadata": {},
   "outputs": [
    {
     "name": "stdout",
     "output_type": "stream",
     "text": [
      "There are 31536000 seconds in a year.\n",
      "There are 525600 minutes in a year.\n",
      "There are 8760 hours in a year.\n",
      "There are 365 days in a year.\n",
      "There are 12 months in a year.\n",
      "There are 52 weeks in a year.\n"
     ]
    }
   ],
   "source": [
    "# Define constants\n",
    "seconds_per_minute = 60\n",
    "minutes_per_hour = 60\n",
    "hours_per_day = 24\n",
    "days_per_week = 7\n",
    "days_per_year = 365  # Use 366 for a leap year\n",
    "months_per_year = 12\n",
    "\n",
    "# Calculate values\n",
    "seconds_per_year = seconds_per_minute * minutes_per_hour * hours_per_day * days_per_year\n",
    "minutes_per_year = minutes_per_hour * hours_per_day * days_per_year\n",
    "hours_per_year = hours_per_day * days_per_year\n",
    "weeks_per_year = days_per_year / days_per_week \n",
    "\n",
    "# Print the results\n",
    "print(f\"There are {seconds_per_year} seconds in a year.\")\n",
    "print(f\"There are {minutes_per_year} minutes in a year.\")\n",
    "print(f\"There are {hours_per_year} hours in a year.\")\n",
    "print(f\"There are {days_per_year} days in a year.\")\n",
    "print(f\"There are {months_per_year} months in a year.\")\n",
    "print(f\"There are {int(weeks_per_year)} weeks in a year.\")  # Rounded to 2 decimal places\n"
   ]
  },
  {
   "cell_type": "markdown",
   "metadata": {},
   "source": [
    "* Write a program which prompts the user for an adjective, then a noun, then a verb, and then prints a fun sentence with those words!"
   ]
  },
  {
   "cell_type": "code",
   "execution_count": 38,
   "metadata": {},
   "outputs": [
    {
     "name": "stdout",
     "output_type": "stream",
     "text": [
      "My short jimmy tried to fighting in the middle of a traffic jam!\n"
     ]
    }
   ],
   "source": [
    "# Prompt the user for an adjective, noun, and verb\n",
    "adjective = input(\"Please type an adjective and press enter. \")\n",
    "noun = input(\"Please type a noun and press enter. \")\n",
    "verb = input(\"Please type a verb and press enter. \")\n",
    "\n",
    "# Construct and print the fun sentence\n",
    "funny_sentence = f\"My {adjective} {noun} tried to {verb} in the middle of a traffic jam!\"\n",
    "print(funny_sentence)"
   ]
  }
 ],
 "metadata": {
  "kernelspec": {
   "display_name": "Python 3",
   "language": "python",
   "name": "python3"
  },
  "language_info": {
   "codemirror_mode": {
    "name": "ipython",
    "version": 3
   },
   "file_extension": ".py",
   "mimetype": "text/x-python",
   "name": "python",
   "nbconvert_exporter": "python",
   "pygments_lexer": "ipython3",
   "version": "3.13.2"
  }
 },
 "nbformat": 4,
 "nbformat_minor": 2
}
