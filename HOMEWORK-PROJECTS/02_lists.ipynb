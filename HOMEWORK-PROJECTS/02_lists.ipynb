{
 "cells": [
  {
   "cell_type": "markdown",
   "metadata": {},
   "source": [
    "* Write a function that takes a list of numbers and returns the sum of those numbers."
   ]
  },
  {
   "cell_type": "code",
   "execution_count": 1,
   "metadata": {},
   "outputs": [
    {
     "name": "stdout",
     "output_type": "stream",
     "text": [
      "The sum of the numbers is: 15\n"
     ]
    }
   ],
   "source": [
    "def sum_of_numbers(numbers):\n",
    "    # Calculate the sum of the list of numbers\n",
    "    total = sum(numbers)\n",
    "    return total\n",
    "\n",
    "# Example usage:\n",
    "numbers = [1, 2, 3, 4, 5]\n",
    "result = sum_of_numbers(numbers)\n",
    "print(f\"The sum of the numbers is: {result}\")\n"
   ]
  },
  {
   "cell_type": "markdown",
   "metadata": {},
   "source": [
    "* Write a program that doubles each element in a list of numbers. For example, if you start with this list:"
   ]
  },
  {
   "cell_type": "code",
   "execution_count": 2,
   "metadata": {},
   "outputs": [
    {
     "name": "stdout",
     "output_type": "stream",
     "text": [
      "The doubled numbers are: [2, 4, 6, 8]\n"
     ]
    }
   ],
   "source": [
    "# Example list of numbers\n",
    "numbers = [1, 2, 3, 4]\n",
    "doubled_numbers =[]\n",
    "\n",
    "# Double each element in the list\n",
    "\n",
    "# Using a list comprehension to double each number\n",
    "# doubled_numbers = [x * 2 for x in numbers]\n",
    "\n",
    "# Using a for loop to double each number\n",
    "for i in range(len(numbers)):  # Loop through the indices of the list\n",
    "        elem_at_index = numbers[i]  # Get the element at index i in the numbers list\n",
    "        doubled_numbers.append( elem_at_index * 2) \n",
    "\n",
    "\n",
    "# Print the result\n",
    "print(f\"The doubled numbers are: {doubled_numbers}\")\n",
    "\n"
   ]
  },
  {
   "cell_type": "markdown",
   "metadata": {},
   "source": [
    "* Implement an 'eraser' on a canvas.\n",
    "\n",
    "The canvas consists of a grid of blue 'cells' which are drawn as rectangles on the screen. We then create an eraser rectangle which, when dragged around the canvas, sets all of the rectangles it is in contact with to white."
   ]
  },
  {
   "cell_type": "code",
   "execution_count": null,
   "metadata": {},
   "outputs": [],
   "source": [
    "import tkinter as tk\n",
    "\n",
    "class EraserCanvas:\n",
    "    def __init__(self, root, width, height, cell_size):\n",
    "        self.root = root\n",
    "        self.width = width\n",
    "        self.height = height\n",
    "        self.cell_size = cell_size\n",
    "\n",
    "        # Create the canvas\n",
    "        self.canvas = tk.Canvas(self.root, width=self.width, height=self.height)\n",
    "        self.canvas.pack()\n",
    "\n",
    "        # Draw the grid of blue cells\n",
    "        self.cells = []\n",
    "        for y in range(0, self.height, self.cell_size):\n",
    "            row = []\n",
    "            for x in range(0, self.width, self.cell_size):\n",
    "                rect = self.canvas.create_rectangle(x, y, x + self.cell_size, y + self.cell_size, fill=\"blue\")\n",
    "                row.append(rect)\n",
    "            self.cells.append(row)\n",
    "\n",
    "        # Create the eraser rectangle (initially at position (0,0))\n",
    "        self.eraser_size = self.cell_size\n",
    "        self.eraser = self.canvas.create_rectangle(0, 0, self.eraser_size, self.eraser_size, outline=\"red\", width=2)\n",
    "\n",
    "        # Bind mouse events\n",
    "        self.canvas.bind(\"<Button-1>\", self.start_eraser)\n",
    "        self.canvas.bind(\"<B1-Motion>\", self.move_eraser)\n",
    "        self.canvas.bind(\"<ButtonRelease-1>\", self.release_eraser)\n",
    "\n",
    "    def start_eraser(self, event):\n",
    "        # Store the initial position for dragging\n",
    "        self.eraser_start_x = event.x\n",
    "        self.eraser_start_y = event.y\n",
    "        self.erase_cells(event)\n",
    "\n",
    "    def move_eraser(self, event):\n",
    "        # Move the eraser rectangle\n",
    "        dx = event.x - self.eraser_start_x\n",
    "        dy = event.y - self.eraser_start_y\n",
    "        self.canvas.move(self.eraser, dx, dy)\n",
    "        self.eraser_start_x = event.x\n",
    "        self.eraser_start_y = event.y\n",
    "        self.erase_cells(event)\n",
    "\n",
    "    def release_eraser(self, event):\n",
    "        # Clear the eraser movement flag\n",
    "        self.eraser_start_x = None\n",
    "        self.eraser_start_y = None\n",
    "\n",
    "    def erase_cells(self, event):\n",
    "        # Get the position of the eraser\n",
    "        eraser_coords = self.canvas.bbox(self.eraser)\n",
    "        eraser_x1, eraser_y1, eraser_x2, eraser_y2 = eraser_coords\n",
    "\n",
    "        # Check which grid cells are touched by the eraser\n",
    "        for row in self.cells:\n",
    "            for rect in row:\n",
    "                rect_coords = self.canvas.bbox(rect)\n",
    "                rect_x1, rect_y1, rect_x2, rect_y2 = rect_coords\n",
    "                # Check if the eraser rectangle overlaps with the current grid cell\n",
    "                if not (eraser_x2 < rect_x1 or eraser_x1 > rect_x2 or eraser_y2 < rect_y1 or eraser_y1 > rect_y2):\n",
    "                    self.canvas.itemconfig(rect, fill=\"white\")  # Set the cell to white\n",
    "\n",
    "\n",
    "if __name__ == \"__main__\":\n",
    "    root = tk.Tk()\n",
    "    root.title(\"Eraser on Canvas\")\n",
    "\n",
    "    canvas_width = 600\n",
    "    canvas_height = 400\n",
    "    cell_size = 30  # Size of each grid cell\n",
    "\n",
    "    eraser_canvas = EraserCanvas(root, canvas_width, canvas_height, cell_size)\n",
    "\n",
    "    root.mainloop()\n"
   ]
  },
  {
   "cell_type": "markdown",
   "metadata": {},
   "source": [
    "* In the information flow lesson, we discussed using a variable storing a number as an example of scope. We saw that changes we made to the number inside a function did not stay unless we returned it. This is true for what we call immutable data types which include things like numbers and strings.\n",
    "\n",
    "* However, there are also mutable data types where changes stay even if we don't return anything. Some examples of mutable data types are lists and dictionaries. This means that you should be mindful when modifying lists and dictionaries within helper functions since their changes stay whether or not you return them.\n",
    "\n",
    "* To see this in action, fill out the add_three_copies(...) function which takes a list and some data and then adds three copies of the data to the list. Don't return anything and see what happens! Compare this process to the x = change(x) example and note the differences."
   ]
  },
  {
   "cell_type": "code",
   "execution_count": 2,
   "metadata": {},
   "outputs": [
    {
     "name": "stdout",
     "output_type": "stream",
     "text": [
      "List before: []\n",
      "List after: ['bye', 'bye', 'bye']\n"
     ]
    }
   ],
   "source": [
    "def add_three_copies(data, lst):\n",
    "    # Add three copies of data to the list\n",
    "    lst.append(data)\n",
    "    lst.append(data)\n",
    "    lst.append(data)\n",
    "\n",
    "# Get user input for data\n",
    "message = input(\"Enter a message to copy: \")\n",
    "\n",
    "# Create an empty list\n",
    "my_list = []\n",
    "\n",
    "# Display the list before modifying it\n",
    "print(\"List before:\", my_list)\n",
    "\n",
    "# Call the function to modify the list\n",
    "add_three_copies(message, my_list)\n",
    "\n",
    "# Display the list after modifying it\n",
    "print(\"List after:\", my_list)\n"
   ]
  },
  {
   "cell_type": "markdown",
   "metadata": {},
   "source": [
    "* Fill out the function get_first_element(lst) which takes in a list lst as a parameter and prints the first element in the list. The list is guaranteed to be non-empty. We've written some code for you which prompts the user to input the list one element at a time."
   ]
  },
  {
   "cell_type": "code",
   "execution_count": 25,
   "metadata": {},
   "outputs": [
    {
     "name": "stdout",
     "output_type": "stream",
     "text": [
      "1\n",
      "['1']\n"
     ]
    }
   ],
   "source": [
    "#  Exaample from document\n",
    "\n",
    "def get_first_element(lst):\n",
    "    \"\"\"\n",
    "    Prints the first element of a provided list.\n",
    "    \"\"\"\n",
    "    print(lst[0])\n",
    "    print(lst)\n",
    "\n",
    "def get_lst():\n",
    "    \"\"\"\n",
    "    Prompts the user to enter one element of the list at a time and returns the resulting list.\n",
    "    \"\"\"\n",
    "    lst = []\n",
    "    elem: str = input(\"Please enter an element of the list or press enter to stop. \")\n",
    "    while elem != \"\":\n",
    "        lst.append(elem)\n",
    "        elem = input(\"Please enter an element of the list or press enter to stop. \")\n",
    "    return lst\n",
    "\n",
    "def main():\n",
    "    lst = get_lst()\n",
    "    get_first_element(lst)\n",
    "\n",
    "if __name__ == '__main__':\n",
    "    main()"
   ]
  },
  {
   "cell_type": "code",
   "execution_count": 26,
   "metadata": {},
   "outputs": [
    {
     "name": "stdout",
     "output_type": "stream",
     "text": [
      "the first element is : 0\n",
      "the last element is : 0\n",
      "the pop element is : 0\n",
      "the list is : []\n"
     ]
    }
   ],
   "source": [
    "def get_first_element(user_list):\n",
    "    # Print the first element of the list\n",
    "    print(f\"the first element is : {user_list[0]}\") # print first number\n",
    "    print(f\"the last element is : {user_list[-1]}\") # print last number\n",
    "    number = user_list.pop() # the poped number\n",
    "    print(f\"the pop element is : {number}\") # print pop number\n",
    "    print(f\"the list is : {user_list}\") # print pop number\n",
    "\n",
    "# Prompt user to input the list\n",
    "num_elements = int(input(\"How many elements do you want to input? \"))\n",
    "user_list = [] \n",
    "\n",
    "# Take user input for each element\n",
    "for i in range(num_elements):\n",
    "    element = input(f\"Enter element {i+1} to be add in the list: \")\n",
    "    if element == \"\":\n",
    "        element = 0\n",
    "    else :\n",
    "        element\n",
    "    user_list.append(element)\n",
    "\n",
    "# Call the function to get and print the first element\n",
    "get_first_element(user_list)\n"
   ]
  }
 ],
 "metadata": {
  "kernelspec": {
   "display_name": "Python 3",
   "language": "python",
   "name": "python3"
  },
  "language_info": {
   "codemirror_mode": {
    "name": "ipython",
    "version": 3
   },
   "file_extension": ".py",
   "mimetype": "text/x-python",
   "name": "python",
   "nbconvert_exporter": "python",
   "pygments_lexer": "ipython3",
   "version": "3.13.2"
  }
 },
 "nbformat": 4,
 "nbformat_minor": 2
}
