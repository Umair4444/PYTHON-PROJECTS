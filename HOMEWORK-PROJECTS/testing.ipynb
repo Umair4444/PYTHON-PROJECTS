{
 "cells": [
  {
   "cell_type": "markdown",
   "metadata": {},
   "source": [
    "Write a program that prints the first 20 even numbers. There are several correct approaches, but they all use a loop of some sort. Do no write twenty print statements"
   ]
  },
  {
   "cell_type": "code",
   "execution_count": 13,
   "metadata": {},
   "outputs": [
    {
     "name": "stdout",
     "output_type": "stream",
     "text": [
      "2 is even number\n",
      "4 is even number\n",
      "6 is even number\n",
      "8 is even number\n",
      "10 is even number\n",
      "12 is even number\n",
      "14 is even number\n",
      "16 is even number\n",
      "18 is even number\n",
      "20 is even number\n"
     ]
    }
   ],
   "source": [
    "for i in range(1,21):\n",
    "    if i % 2 == 0:\n",
    "        print(f\"{i} is even number\")\n",
    "\n"
   ]
  },
  {
   "cell_type": "code",
   "execution_count": 14,
   "metadata": {},
   "outputs": [
    {
     "data": {
      "text/plain": [
       "['1 is odd number',\n",
       " '2 is even number',\n",
       " '3 is odd number',\n",
       " '4 is even number',\n",
       " '5 is odd number',\n",
       " '6 is even number',\n",
       " '7 is odd number',\n",
       " '8 is even number',\n",
       " '9 is odd number',\n",
       " '10 is even number',\n",
       " '11 is odd number',\n",
       " '12 is even number',\n",
       " '13 is odd number',\n",
       " '14 is even number',\n",
       " '15 is odd number',\n",
       " '16 is even number',\n",
       " '17 is odd number',\n",
       " '18 is even number',\n",
       " '19 is odd number',\n",
       " '20 is even number']"
      ]
     },
     "execution_count": 14,
     "metadata": {},
     "output_type": "execute_result"
    }
   ],
   "source": [
    "[(f\"{i} is even number\") if i % 2 == 0 else (f\"{i} is odd number\") for i in range(1,21)]\n",
    "# print(even_number)\n",
    "       \n"
   ]
  },
  {
   "cell_type": "code",
   "execution_count": 15,
   "metadata": {},
   "outputs": [
    {
     "data": {
      "text/plain": [
       "[False,\n",
       " True,\n",
       " False,\n",
       " True,\n",
       " False,\n",
       " True,\n",
       " False,\n",
       " True,\n",
       " False,\n",
       " True,\n",
       " False,\n",
       " True,\n",
       " False,\n",
       " True,\n",
       " False,\n",
       " True,\n",
       " False,\n",
       " True,\n",
       " False,\n",
       " True]"
      ]
     },
     "execution_count": 15,
     "metadata": {},
     "output_type": "execute_result"
    }
   ],
   "source": [
    "[ ( i % 2 == 0 ) for i in range(1,21)]"
   ]
  },
  {
   "cell_type": "code",
   "execution_count": 16,
   "metadata": {},
   "outputs": [
    {
     "name": "stdout",
     "output_type": "stream",
     "text": [
      "[(1, 'odd'), (2, 'even'), (3, 'odd'), (4, 'even'), (5, 'odd'), (6, 'even'), (7, 'odd'), (8, 'even'), (9, 'odd'), (10, 'even'), (11, 'odd'), (12, 'even'), (13, 'odd'), (14, 'even'), (15, 'odd'), (16, 'even'), (17, 'odd'), (18, 'even'), (19, 'odd'), (20, 'even')]\n"
     ]
    }
   ],
   "source": [
    "even_numbers = [(i, \"even\") if i % 2 == 0 else (i, \"odd\") for i in range(1, 21)]\n",
    "print(even_numbers)\n"
   ]
  },
  {
   "cell_type": "code",
   "execution_count": 17,
   "metadata": {},
   "outputs": [
    {
     "data": {
      "text/plain": [
       "['',\n",
       " '2 is even',\n",
       " '',\n",
       " '4 is even',\n",
       " '',\n",
       " '6 is even',\n",
       " '',\n",
       " '8 is even',\n",
       " '',\n",
       " '10 is even',\n",
       " '',\n",
       " '12 is even',\n",
       " '',\n",
       " '14 is even',\n",
       " '',\n",
       " '16 is even',\n",
       " '',\n",
       " '18 is even',\n",
       " '',\n",
       " '20 is even']"
      ]
     },
     "execution_count": 17,
     "metadata": {},
     "output_type": "execute_result"
    }
   ],
   "source": [
    "[f\"{i} is even\" if i % 2 == 0 else '' for i in range(1,21)]"
   ]
  },
  {
   "cell_type": "code",
   "execution_count": 18,
   "metadata": {},
   "outputs": [
    {
     "name": "stdout",
     "output_type": "stream",
     "text": [
      "2 is an even number\n",
      "4 is an even number\n",
      "6 is an even number\n",
      "8 is an even number\n",
      "10 is an even number\n",
      "12 is an even number\n",
      "14 is an even number\n",
      "16 is an even number\n",
      "18 is an even number\n",
      "20 is an even number\n",
      "22 is an even number\n",
      "24 is an even number\n",
      "26 is an even number\n",
      "28 is an even number\n",
      "30 is an even number\n",
      "32 is an even number\n",
      "34 is an even number\n",
      "36 is an even number\n",
      "38 is an even number\n",
      "40 is an even number\n"
     ]
    }
   ],
   "source": [
    "even_numbers = [f\"{i} is an even number\" for i in range(1, 41) if i % 2 == 0]\n",
    "print(\"\\n\".join(even_numbers))\n"
   ]
  },
  {
   "cell_type": "code",
   "execution_count": null,
   "metadata": {},
   "outputs": [
    {
     "name": "stdout",
     "output_type": "stream",
     "text": [
      "\n",
      "Phonebook Menu:\n",
      "1. Add a contact\n",
      "2. View all contacts\n",
      "3. Delete a contact\n",
      "4. Exit\n",
      "Invalid choice. Please select a valid option.\n",
      "\n",
      "Phonebook Menu:\n",
      "1. Add a contact\n",
      "2. View all contacts\n",
      "3. Delete a contact\n",
      "4. Exit\n",
      "Invalid choice. Please select a valid option.\n",
      "\n",
      "Phonebook Menu:\n",
      "1. Add a contact\n",
      "2. View all contacts\n",
      "3. Delete a contact\n",
      "4. Exit\n",
      "Invalid choice. Please select a valid option.\n",
      "\n",
      "Phonebook Menu:\n",
      "1. Add a contact\n",
      "2. View all contacts\n",
      "3. Delete a contact\n",
      "4. Exit\n",
      "Invalid choice. Please select a valid option.\n",
      "\n",
      "Phonebook Menu:\n",
      "1. Add a contact\n",
      "2. View all contacts\n",
      "3. Delete a contact\n",
      "4. Exit\n",
      "Invalid choice. Please select a valid option.\n",
      "\n",
      "Phonebook Menu:\n",
      "1. Add a contact\n",
      "2. View all contacts\n",
      "3. Delete a contact\n",
      "4. Exit\n",
      "Invalid choice. Please select a valid option.\n",
      "\n",
      "Phonebook Menu:\n",
      "1. Add a contact\n",
      "2. View all contacts\n",
      "3. Delete a contact\n",
      "4. Exit\n",
      "Invalid choice. Please select a valid option.\n",
      "\n",
      "Phonebook Menu:\n",
      "1. Add a contact\n",
      "2. View all contacts\n",
      "3. Delete a contact\n",
      "4. Exit\n",
      "Invalid choice. Please select a valid option.\n",
      "\n",
      "Phonebook Menu:\n",
      "1. Add a contact\n",
      "2. View all contacts\n",
      "3. Delete a contact\n",
      "4. Exit\n",
      "Invalid choice. Please select a valid option.\n",
      "\n",
      "Phonebook Menu:\n",
      "1. Add a contact\n",
      "2. View all contacts\n",
      "3. Delete a contact\n",
      "4. Exit\n"
     ]
    }
   ],
   "source": [
    "# Initialize an empty dictionary to store contacts\n",
    "phonebook = {}\n",
    "\n",
    "def add_contact():\n",
    "    \"\"\"Function to add a contact to the phonebook.\"\"\"\n",
    "    name = input(\"Enter the contact's name: \")\n",
    "    phone_number = input(f\"Enter {name}'s phone number: \")\n",
    "    \n",
    "    # Check if the contact already exists in the phonebook\n",
    "    if name in phonebook:\n",
    "        print(f\"{name} already exists in the phonebook. Updating the phone number.\")\n",
    "    \n",
    "    # Add or update the contact's phone number\n",
    "    phonebook[name] = phone_number\n",
    "    print(f\"Contact for {name} added/updated.\")\n",
    "\n",
    "def view_contacts():\n",
    "    \"\"\"Function to view all contacts in the phonebook.\"\"\"\n",
    "    if not phonebook:\n",
    "        print(\"The phonebook is empty.\")\n",
    "    else:\n",
    "        print(\"Phonebook Contacts:\")\n",
    "        for name, number in phonebook.items():\n",
    "            print(f\"{name}: {number}\")\n",
    "\n",
    "def delete_contact():\n",
    "    \"\"\"Function to delete a contact from the phonebook.\"\"\"\n",
    "    name = input(\"Enter the name of the contact to delete: \")\n",
    "    \n",
    "    # Check if the contact exists in the phonebook\n",
    "    if name in phonebook:\n",
    "        del phonebook[name]\n",
    "        print(f\"Contact for {name} has been deleted.\")\n",
    "    else:\n",
    "        print(f\"No contact found for {name}.\")\n",
    "\n",
    "def main():\n",
    "    \"\"\"Main function to run the phonebook.\"\"\"\n",
    "    while True:\n",
    "        print(\"\\nPhonebook Menu:\")\n",
    "        print(\"1. Add a contact\")\n",
    "        print(\"2. View all contacts\")\n",
    "        print(\"3. Delete a contact\")\n",
    "        print(\"4. Exit\")\n",
    "        \n",
    "        # Prompt the user to choose an option\n",
    "        choice = input(\"Please enter your choice (1-4): \")\n",
    "        \n",
    "        if choice == '1':\n",
    "            add_contact()\n",
    "        elif choice == '2':\n",
    "            view_contacts()\n",
    "        elif choice == '3':\n",
    "            delete_contact()\n",
    "        elif choice == '4':\n",
    "            print(\"Exiting the phonebook. Goodbye!\")\n",
    "            break\n",
    "        else:\n",
    "            print(\"Invalid choice. Please select a valid option.\")\n",
    "\n",
    "# Run the phonebook program\n",
    "if __name__ == \"__main__\":\n",
    "    main()\n"
   ]
  },
  {
   "cell_type": "markdown",
   "metadata": {},
   "source": []
  },
  {
   "cell_type": "code",
   "execution_count": null,
   "metadata": {},
   "outputs": [
    {
     "name": "stdout",
     "output_type": "stream",
     "text": [
      "0, 1, 1, 2, 3, "
     ]
    }
   ],
   "source": [
    "MAX_TERM_VALUE : int = 3\n",
    "\n",
    "def main():\n",
    "    curr_term = 0  # The 0th Fibonacci Number\n",
    "    next_term = 1  # The 1st Fibonacci Number\n",
    "    while curr_term <= MAX_TERM_VALUE:\n",
    "        print(curr_term, end=\", \")\n",
    "        term_after_next = curr_term + next_term\n",
    "        curr_term = next_term\n",
    "      \n",
    "        next_term = term_after_next\n",
    "\n",
    "main()"
   ]
  },
  {
   "cell_type": "code",
   "execution_count": null,
   "metadata": {},
   "outputs": [
    {
     "name": "stdout",
     "output_type": "stream",
     "text": [
      "Current term: 0, Next term: 1, Term after next: 1\n",
      "Current term: 1, Next term: 1, Term after next: 2\n",
      "Current term: 1, Next term: 2, Term after next: 3\n",
      "Current term: 2, Next term: 3, Term after next: 5\n",
      "Current term: 3, Next term: 5, Term after next: 8\n",
      "Current term: 5, Next term: 8, Term after next: 13\n",
      "Current term: 8, Next term: 13, Term after next: 21\n"
     ]
    }
   ],
   "source": [
    "MAX_TERM_VALUE : int = 10  # Adjust as needed, for now set it to 10 to allow more terms\n",
    "\n",
    "def main():\n",
    "    curr_term = 0  # The 1st Fibonacci Number (Fib(1))\n",
    "    next_term = 1  # The 2nd Fibonacci Number (Fib(2))\n",
    "    \n",
    "    # Start the loop from the 2nd term onwards\n",
    "    while curr_term <= MAX_TERM_VALUE:\n",
    "        term_after_next = curr_term + next_term\n",
    "        print(f\"Current term: {curr_term}, Next term: {next_term}, Term after next: {term_after_next}\")\n",
    "        \n",
    "        # Update to the next Fibonacci term\n",
    "        curr_term, next_term = next_term, term_after_next\n",
    "\n",
    "# Run the program\n",
    "main()\n"
   ]
  },
  {
   "cell_type": "code",
   "execution_count": 3,
   "metadata": {},
   "outputs": [
    {
     "data": {
      "text/plain": [
       "[1, 4, 7, 10, 13, 16, 19]"
      ]
     },
     "execution_count": 3,
     "metadata": {},
     "output_type": "execute_result"
    }
   ],
   "source": [
    "[o for o in range(1,20,3)]\n"
   ]
  },
  {
   "cell_type": "code",
   "execution_count": 8,
   "metadata": {},
   "outputs": [
    {
     "data": {
      "text/plain": [
       "7"
      ]
     },
     "execution_count": 8,
     "metadata": {},
     "output_type": "execute_result"
    }
   ],
   "source": [
    "sum(range(1,10,5))"
   ]
  },
  {
   "cell_type": "code",
   "execution_count": 9,
   "metadata": {},
   "outputs": [
    {
     "name": "stdout",
     "output_type": "stream",
     "text": [
      "[1, 6]\n"
     ]
    }
   ],
   "source": [
    "print([i for i in range(1,10,5)])"
   ]
  }
 ],
 "metadata": {
  "kernelspec": {
   "display_name": "Python 3",
   "language": "python",
   "name": "python3"
  },
  "language_info": {
   "codemirror_mode": {
    "name": "ipython",
    "version": 3
   },
   "file_extension": ".py",
   "mimetype": "text/x-python",
   "name": "python",
   "nbconvert_exporter": "python",
   "pygments_lexer": "ipython3",
   "version": "3.13.2"
  }
 },
 "nbformat": 4,
 "nbformat_minor": 2
}
