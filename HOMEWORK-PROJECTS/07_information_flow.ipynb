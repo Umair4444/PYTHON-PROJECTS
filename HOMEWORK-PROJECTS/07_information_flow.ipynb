{
 "cells": [
  {
   "cell_type": "markdown",
   "metadata": {},
   "source": [
    "* There are times where we want to return different things from a function based on some condition. To practice this idea, imagine that we want to check if someone is an adult. We might check their age and return different things depending on how old they are!"
   ]
  },
  {
   "cell_type": "code",
   "execution_count": null,
   "metadata": {},
   "outputs": [
    {
     "name": "stdout",
     "output_type": "stream",
     "text": [
      "True\n"
     ]
    }
   ],
   "source": [
    "ADULT_AGE = 18\n",
    "\n",
    "def is_adult(age):\n",
    "    return age >= ADULT_AGE  # Returns True if age is 18 or above, False otherwise\n",
    "\n",
    "def main():\n",
    "    age = int(input(\"How old is this person?: \"))\n",
    "    print(is_adult(age))  # Print the result of the function\n",
    "\n",
    "if __name__ == \"__main__\":\n",
    "    main()\n"
   ]
  },
  {
   "cell_type": "markdown",
   "metadata": {},
   "source": [
    "* We've written a helper function for you called greet(name) which takes as input a string name and prints a greeting. Write some code in main() to get the user's name and then greet them, being sure to call the greet(name) helper function."
   ]
  },
  {
   "cell_type": "code",
   "execution_count": 2,
   "metadata": {},
   "outputs": [
    {
     "name": "stdout",
     "output_type": "stream",
     "text": [
      "Greetings umair!\n"
     ]
    }
   ],
   "source": [
    "def greet(name):\n",
    "    print(f\"Greetings {name}!\")\n",
    "\n",
    "def main():\n",
    "    name = input(\"What's your name? \")  # Get user input\n",
    "    greet(name)  # Call the helper function with the user's name\n",
    "\n",
    "if __name__ == \"__main__\":\n",
    "    main()\n"
   ]
  },
  {
   "cell_type": "markdown",
   "metadata": {},
   "source": [
    "* Implement the following function which takes in 3 integers as parameters:"
   ]
  },
  {
   "cell_type": "code",
   "execution_count": 6,
   "metadata": {},
   "outputs": [
    {
     "name": "stdout",
     "output_type": "stream",
     "text": [
      "True\n",
      "False\n",
      "True\n",
      "True\n"
     ]
    }
   ],
   "source": [
    "def in_range(n, low, high):\n",
    "    \"\"\"Returns True if n is between low and high, inclusive.\"\"\"\n",
    "    return low <= n <= high  # Check if n is in the range\n",
    "\n",
    "# Example usage\n",
    "print(in_range(5, 1, 10))  # True\n",
    "print(in_range(15, 1, 10))  # False\n",
    "print(in_range(10, 1, 10))  # True\n",
    "print(in_range(1, 1, 10))  # True\n"
   ]
  },
  {
   "cell_type": "markdown",
   "metadata": {},
   "source": [
    "* Sophia has a fruit store. She has written a function num_in_stock which takes a string fruit as a parameter and returns how many of that fruit are in her inventory. Write code in main() which will:"
   ]
  },
  {
   "cell_type": "code",
   "execution_count": 8,
   "metadata": {},
   "outputs": [
    {
     "name": "stdout",
     "output_type": "stream",
     "text": [
      "This fruit is not in stock.\n"
     ]
    }
   ],
   "source": [
    "# Sample fruit inventory\n",
    "fruit_inventory = {\n",
    "    \"apple\": 20,\n",
    "    \"banana\": 15,\n",
    "    \"pear\": 10,\n",
    "    \"orange\": 50,\n",
    "    \"grape\": 200\n",
    "}\n",
    "\n",
    "def num_in_stock(fruit):\n",
    "    \"\"\"Returns the number of a given fruit in stock. Returns 0 if not found.\"\"\"\n",
    "    return fruit_inventory.get(fruit.lower(), 0)  # Convert input to lowercase for consistency\n",
    "\n",
    "def main():\n",
    "    fruit = input(\"Enter a fruit: \").strip()  # Get user input and remove extra spaces\n",
    "    stock = num_in_stock(fruit)  # Get stock count\n",
    "        \n",
    "    if stock > 0:\n",
    "        print(\"This fruit is in stock! Here is how many:\")\n",
    "        print(stock)\n",
    "    else:\n",
    "        print(\"This fruit is not in stock.\")\n",
    "\n",
    "if __name__ == \"__main__\":\n",
    "    main()\n"
   ]
  },
  {
   "cell_type": "markdown",
   "metadata": {},
   "source": [
    "* There are times where you are working with lots of different data within a function that you want to return. While generally, we want to keep functions to have a precise purpose, sometimes that purpose just deals with multiple bits of data."
   ]
  },
  {
   "cell_type": "code",
   "execution_count": 12,
   "metadata": {},
   "outputs": [
    {
     "name": "stdout",
     "output_type": "stream",
     "text": [
      "<class 'str'>\n",
      "my first name is ali , last name is khan and email is ali@gmail.com\n"
     ]
    }
   ],
   "source": [
    "def get_user_data():\n",
    "    first_name = input(\"What is your first name?: \")\n",
    "    last_name = input(\"What is your last name?: \")\n",
    "    email = input(\"What is your email address?: \")\n",
    "    return first_name, last_name, email  # Tuple packing\n",
    "\n",
    "def main():\n",
    "    # user_data = get_user_data()  # Tuple unpacking is also possible: f, l, e = get_user_data()\n",
    "    # # print(user_data[1]=\"hhhh\")\n",
    "    # print(\"Received the following user data:\", user_data)\n",
    "\n",
    "    # print(user_data[1]) # throw error start here\n",
    "    # print(\"-----------\")\n",
    "    # user_data[1] = \"123\"\n",
    "    # print(f\"{user_data[1]}\")\n",
    "    # print(\"User data as list:\", user_data) # eroor end here\n",
    "\n",
    "    fname, lname ,email = get_user_data()\n",
    "    print(type(fname))\n",
    "    print(f\"my first name is {fname} , last name is {lname} and email is {email}\")\n",
    "\n",
    "    \n",
    "\n",
    "if __name__ == \"__main__\":\n",
    "    main()\n"
   ]
  },
  {
   "cell_type": "markdown",
   "metadata": {},
   "source": [
    "* Fill out the subtract_seven helper function to subtract 7 from num, and fill out the main() method to call the subtract_seven helper function! If you're stuck, revisit the add_five example from lecture."
   ]
  },
  {
   "cell_type": "code",
   "execution_count": 13,
   "metadata": {},
   "outputs": [
    {
     "name": "stdout",
     "output_type": "stream",
     "text": [
      "Result after subtracting 7: -2\n"
     ]
    }
   ],
   "source": [
    "def subtract_seven(num):\n",
    "    return num - 7\n",
    "\n",
    "def main():\n",
    "    number = int(input(\"Enter a number: \"))\n",
    "    result = subtract_seven(number)\n",
    "    print(\"Result after subtracting 7:\", result)\n",
    "\n",
    "main()\n"
   ]
  }
 ],
 "metadata": {
  "kernelspec": {
   "display_name": "Python 3",
   "language": "python",
   "name": "python3"
  },
  "language_info": {
   "codemirror_mode": {
    "name": "ipython",
    "version": 3
   },
   "file_extension": ".py",
   "mimetype": "text/x-python",
   "name": "python",
   "nbconvert_exporter": "python",
   "pygments_lexer": "ipython3",
   "version": "3.13.2"
  }
 },
 "nbformat": 4,
 "nbformat_minor": 2
}
