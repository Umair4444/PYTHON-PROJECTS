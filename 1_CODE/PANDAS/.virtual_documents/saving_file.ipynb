import pandas as pd


dic = {'A':[1,2,3], 'B':['x','y','z'], 'C':["python","typescript","NextJs"]}

df = pd.DataFrame(dic)

df


df.to_csv('file1.csv')


df.to_csv('file1.csv',header=['col1','col2','col3'])


fileone = pd.read_csv('file1.csv')
fileone






