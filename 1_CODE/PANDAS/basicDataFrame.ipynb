{
 "cells": [
  {
   "cell_type": "code",
   "execution_count": 177,
   "id": "7d7b0b25",
   "metadata": {},
   "outputs": [],
   "source": [
    "import pandas as pd"
   ]
  },
  {
   "cell_type": "markdown",
   "id": "8b519f2a",
   "metadata": {},
   "source": [
    "* pd.series\n",
    "* pd.Dataframe if I created using list I can declare any column name during df declaration\n",
    "* pd.concat only accept series in list and not dataframe\n",
    "\n",
    "* index and column in Datframe\n",
    "* set_index to set index no\n",
    "* dataframe.rename to rename rows and columns\n",
    "* dataframe.column to rename columns must redeclare all\n",
    "* dataframe.index to rename rows must redeclare all\n",
    "* dataframe.value gives all value\n",
    "* dataframe.row to rename rows must redeclare all\n",
    "* Dataframe.T will teanspose"
   ]
  },
  {
   "cell_type": "code",
   "execution_count": 159,
   "id": "cac4c7a8",
   "metadata": {},
   "outputs": [
    {
     "data": {
      "text/html": [
       "<div>\n",
       "<style scoped>\n",
       "    .dataframe tbody tr th:only-of-type {\n",
       "        vertical-align: middle;\n",
       "    }\n",
       "\n",
       "    .dataframe tbody tr th {\n",
       "        vertical-align: top;\n",
       "    }\n",
       "\n",
       "    .dataframe thead th {\n",
       "        text-align: right;\n",
       "    }\n",
       "</style>\n",
       "<table border=\"1\" class=\"dataframe\">\n",
       "  <thead>\n",
       "    <tr style=\"text-align: right;\">\n",
       "      <th></th>\n",
       "      <th>0</th>\n",
       "    </tr>\n",
       "  </thead>\n",
       "  <tbody>\n",
       "    <tr>\n",
       "      <th>0</th>\n",
       "      <td>1</td>\n",
       "    </tr>\n",
       "    <tr>\n",
       "      <th>1</th>\n",
       "      <td>2</td>\n",
       "    </tr>\n",
       "    <tr>\n",
       "      <th>2</th>\n",
       "      <td>3</td>\n",
       "    </tr>\n",
       "    <tr>\n",
       "      <th>3</th>\n",
       "      <td>4</td>\n",
       "    </tr>\n",
       "    <tr>\n",
       "      <th>4</th>\n",
       "      <td>5</td>\n",
       "    </tr>\n",
       "    <tr>\n",
       "      <th>5</th>\n",
       "      <td>6</td>\n",
       "    </tr>\n",
       "    <tr>\n",
       "      <th>6</th>\n",
       "      <td>7</td>\n",
       "    </tr>\n",
       "    <tr>\n",
       "      <th>7</th>\n",
       "      <td>8</td>\n",
       "    </tr>\n",
       "    <tr>\n",
       "      <th>8</th>\n",
       "      <td>9</td>\n",
       "    </tr>\n",
       "  </tbody>\n",
       "</table>\n",
       "</div>"
      ],
      "text/plain": [
       "   0\n",
       "0  1\n",
       "1  2\n",
       "2  3\n",
       "3  4\n",
       "4  5\n",
       "5  6\n",
       "6  7\n",
       "7  8\n",
       "8  9"
      ]
     },
     "execution_count": 159,
     "metadata": {},
     "output_type": "execute_result"
    }
   ],
   "source": [
    "i = [1,2,3,4,5,6,7,8,9]\n",
    "\n",
    "df = pd.DataFrame(i)\n",
    "df"
   ]
  },
  {
   "cell_type": "code",
   "execution_count": 160,
   "id": "b3745033",
   "metadata": {},
   "outputs": [
    {
     "name": "stdout",
     "output_type": "stream",
     "text": [
      "   0  1  2  3  4\n",
      "X  1  2  3  4  5\n",
      "Z  a  b  g  h  t\n",
      "=================\n",
      "   X  Z\n",
      "0  1  a\n",
      "1  2  b\n",
      "2  3  g\n",
      "3  4  h\n",
      "4  5  t\n"
     ]
    }
   ],
   "source": [
    "j = pd.Series([1,2,3,4,5],name='X')\n",
    "k = pd.Series(['a','b','g','h','t'],name='Z')\n",
    "\n",
    "df = pd.DataFrame([j,k])\n",
    "df1 = pd.concat([j,k],axis=1)\n",
    "\n",
    "print(df)\n",
    "print('=================')\n",
    "print(df1)"
   ]
  },
  {
   "cell_type": "code",
   "execution_count": 161,
   "id": "f1100eeb",
   "metadata": {},
   "outputs": [
    {
     "name": "stdout",
     "output_type": "stream",
     "text": [
      "   0  1  2  3  4\n",
      "0  1  2  3  4  5\n",
      "1  a  b  g  h  t\n",
      "=================\n",
      "   0  1\n",
      "0  1  a\n",
      "1  2  b\n",
      "2  3  g\n",
      "3  4  h\n",
      "4  5  t\n"
     ]
    }
   ],
   "source": [
    "j = pd.Series([1,2,3,4,5])\n",
    "k = pd.Series(['a','b','g','h','t'])\n",
    "\n",
    "df = pd.DataFrame([j,k])\n",
    "df1 = pd.concat([j,k],axis=1)\n",
    "\n",
    "print(df)\n",
    "print('=================')\n",
    "print(df1)"
   ]
  },
  {
   "cell_type": "code",
   "execution_count": 162,
   "id": "a397de10",
   "metadata": {},
   "outputs": [
    {
     "data": {
      "text/html": [
       "<div>\n",
       "<style scoped>\n",
       "    .dataframe tbody tr th:only-of-type {\n",
       "        vertical-align: middle;\n",
       "    }\n",
       "\n",
       "    .dataframe tbody tr th {\n",
       "        vertical-align: top;\n",
       "    }\n",
       "\n",
       "    .dataframe thead th {\n",
       "        text-align: right;\n",
       "    }\n",
       "</style>\n",
       "<table border=\"1\" class=\"dataframe\">\n",
       "  <thead>\n",
       "    <tr style=\"text-align: right;\">\n",
       "      <th></th>\n",
       "      <th>name</th>\n",
       "      <th>course</th>\n",
       "      <th>salary</th>\n",
       "    </tr>\n",
       "  </thead>\n",
       "  <tbody>\n",
       "    <tr>\n",
       "      <th>0</th>\n",
       "      <td>Umair</td>\n",
       "      <td>GenAI</td>\n",
       "      <td>50000</td>\n",
       "    </tr>\n",
       "    <tr>\n",
       "      <th>1</th>\n",
       "      <td>Umair</td>\n",
       "      <td>Metaverse</td>\n",
       "      <td>20000</td>\n",
       "    </tr>\n",
       "    <tr>\n",
       "      <th>2</th>\n",
       "      <td>Umair</td>\n",
       "      <td>Web3</td>\n",
       "      <td>90000</td>\n",
       "    </tr>\n",
       "  </tbody>\n",
       "</table>\n",
       "</div>"
      ],
      "text/plain": [
       "    name     course  salary\n",
       "0  Umair      GenAI   50000\n",
       "1  Umair  Metaverse   20000\n",
       "2  Umair       Web3   90000"
      ]
     },
     "execution_count": 162,
     "metadata": {},
     "output_type": "execute_result"
    }
   ],
   "source": [
    "j = {'name' : 'Umair', \"course\": ['GenAI','Metaverse','Web3'], 'salary' : [50000,20000,90000]}\n",
    "\n",
    "df1 = pd.DataFrame(j)\n",
    "\n",
    "df1"
   ]
  },
  {
   "cell_type": "code",
   "execution_count": 163,
   "id": "5da24a1d",
   "metadata": {},
   "outputs": [
    {
     "name": "stdout",
     "output_type": "stream",
     "text": [
      "s01    [1, 2, 3, 4, 5]\n",
      "s2     [1, 2, 3, 4, 5]\n",
      "s3     [1, 2, 3, 4, 5]\n",
      "Name: a, dtype: object\n",
      "=================\n",
      "   s01  s2  s3\n",
      "0    1   1   1\n",
      "1    2   2   2\n",
      "2    3   3   3\n",
      "3    4   4   4\n",
      "4    5   5   5\n",
      "=================\n",
      "                   a\n",
      "s01  [1, 2, 3, 4, 5]\n",
      "s2   [1, 2, 3, 4, 5]\n",
      "s3   [1, 2, 3, 4, 5]\n"
     ]
    }
   ],
   "source": [
    "s1 = [1,2,3,4,5]\n",
    "s2 = [1,2,3,4,5]\n",
    "s3 = [1,2,3,4,5]\n",
    "\n",
    "series = {'s01':s1, 's2':s2, 's3':s3 }\n",
    "\n",
    "df = pd.Series(series,name='a')\n",
    "\n",
    "df1 = pd.DataFrame(series)\n",
    "\n",
    "# df2 = pd.concat([df],axis=0)\n",
    "df2 = pd.concat([df],axis=1)\n",
    "\n",
    "print(df)\n",
    "print('=================')\n",
    "print(df1)\n",
    "print('=================')\n",
    "print(df2)"
   ]
  },
  {
   "cell_type": "code",
   "execution_count": 164,
   "id": "812b6657",
   "metadata": {},
   "outputs": [
    {
     "name": "stdout",
     "output_type": "stream",
     "text": [
      "=================\n",
      "   0  1  2  3  4\n",
      "0  1  2  3  4  5\n",
      "1  1  2  3  4  5\n",
      "2  1  2  3  4  5\n",
      "=================\n",
      "   0  1  2\n",
      "0  1  1  1\n",
      "1  2  2  2\n",
      "2  3  3  3\n",
      "3  4  4  4\n",
      "4  5  5  5\n"
     ]
    }
   ],
   "source": [
    "s1 = pd.Series([1,2,3,4,5])\n",
    "s2 = pd.Series([1,2,3,4,5])\n",
    "s3 = pd.Series([1,2,3,4,5])\n",
    "\n",
    "df1 = pd.DataFrame([s1,s2,s3])\n",
    "\n",
    "df2 = pd.concat([s1,s2,s3],axis=1)\n",
    "\n",
    "print('=================')\n",
    "print(df1)\n",
    "print('=================')\n",
    "print(df2)"
   ]
  },
  {
   "cell_type": "code",
   "execution_count": 165,
   "id": "8dda7ed9",
   "metadata": {},
   "outputs": [
    {
     "data": {
      "text/html": [
       "<div>\n",
       "<style scoped>\n",
       "    .dataframe tbody tr th:only-of-type {\n",
       "        vertical-align: middle;\n",
       "    }\n",
       "\n",
       "    .dataframe tbody tr th {\n",
       "        vertical-align: top;\n",
       "    }\n",
       "\n",
       "    .dataframe thead th {\n",
       "        text-align: right;\n",
       "    }\n",
       "</style>\n",
       "<table border=\"1\" class=\"dataframe\">\n",
       "  <thead>\n",
       "    <tr style=\"text-align: right;\">\n",
       "      <th></th>\n",
       "      <th>0</th>\n",
       "      <th>1</th>\n",
       "      <th>2</th>\n",
       "      <th>3</th>\n",
       "      <th>4</th>\n",
       "    </tr>\n",
       "  </thead>\n",
       "  <tbody>\n",
       "    <tr>\n",
       "      <th>0</th>\n",
       "      <td>1</td>\n",
       "      <td>2</td>\n",
       "      <td>3</td>\n",
       "      <td>4</td>\n",
       "      <td>5</td>\n",
       "    </tr>\n",
       "    <tr>\n",
       "      <th>1</th>\n",
       "      <td>1</td>\n",
       "      <td>2</td>\n",
       "      <td>3</td>\n",
       "      <td>4</td>\n",
       "      <td>5</td>\n",
       "    </tr>\n",
       "    <tr>\n",
       "      <th>2</th>\n",
       "      <td>1</td>\n",
       "      <td>2</td>\n",
       "      <td>3</td>\n",
       "      <td>4</td>\n",
       "      <td>5</td>\n",
       "    </tr>\n",
       "  </tbody>\n",
       "</table>\n",
       "</div>"
      ],
      "text/plain": [
       "   0  1  2  3  4\n",
       "0  1  2  3  4  5\n",
       "1  1  2  3  4  5\n",
       "2  1  2  3  4  5"
      ]
     },
     "execution_count": 165,
     "metadata": {},
     "output_type": "execute_result"
    }
   ],
   "source": [
    "s1 = [1,2,3,4,5]\n",
    "s2 = [1,2,3,4,5]\n",
    "s3 = [1,2,3,4,5]\n",
    "\n",
    "df2 = pd.DataFrame([s1,s2,s3])\n",
    "# df2 = pd.DataFrame([s1,s2,s3]).T # it will transpose change row with column\n",
    "\n",
    "df2"
   ]
  },
  {
   "cell_type": "code",
   "execution_count": 166,
   "id": "e5fc8b8f",
   "metadata": {},
   "outputs": [
    {
     "name": "stdout",
     "output_type": "stream",
     "text": [
      "      Age\n",
      "Name     \n",
      "Ali    23\n",
      "Sara   25\n",
      "============================================\n",
      "   Name  Age\n",
      "0   Ali   23\n",
      "1  Sara   25\n"
     ]
    }
   ],
   "source": [
    "df = pd.DataFrame({\n",
    "    'Name': ['Ali', 'Sara'],\n",
    "    'Age': [23, 25]\n",
    "})\n",
    "\n",
    "df_indexed = df.set_index('Name')\n",
    "print(df_indexed)\n",
    "print(\"============================================\")\n",
    "print(df)"
   ]
  },
  {
   "cell_type": "code",
   "execution_count": 167,
   "id": "20a3aebe",
   "metadata": {},
   "outputs": [
    {
     "name": "stdout",
     "output_type": "stream",
     "text": [
      "       X   4\n",
      "r1    10  30\n",
      "row2  20  40\n"
     ]
    }
   ],
   "source": [
    "df = pd.DataFrame({\n",
    "    'A': [10, 20],\n",
    "    'B': [30, 40]\n",
    "}, index=['row1', 'row2'])\n",
    "\n",
    "# Rename column A to X, row1 to r1\n",
    "df = df.rename(columns={'A': 'X','B':4}, index={'row1': 'r1'})\n",
    "\n",
    "print(df)\n"
   ]
  },
  {
   "cell_type": "code",
   "execution_count": 168,
   "id": "488fdbce",
   "metadata": {},
   "outputs": [
    {
     "data": {
      "text/html": [
       "<div>\n",
       "<style scoped>\n",
       "    .dataframe tbody tr th:only-of-type {\n",
       "        vertical-align: middle;\n",
       "    }\n",
       "\n",
       "    .dataframe tbody tr th {\n",
       "        vertical-align: top;\n",
       "    }\n",
       "\n",
       "    .dataframe thead th {\n",
       "        text-align: right;\n",
       "    }\n",
       "</style>\n",
       "<table border=\"1\" class=\"dataframe\">\n",
       "  <thead>\n",
       "    <tr style=\"text-align: right;\">\n",
       "      <th></th>\n",
       "      <th>A</th>\n",
       "      <th>B</th>\n",
       "    </tr>\n",
       "  </thead>\n",
       "  <tbody>\n",
       "    <tr>\n",
       "      <th>row1</th>\n",
       "      <td>10</td>\n",
       "      <td>30</td>\n",
       "    </tr>\n",
       "    <tr>\n",
       "      <th>row2</th>\n",
       "      <td>20</td>\n",
       "      <td>40</td>\n",
       "    </tr>\n",
       "  </tbody>\n",
       "</table>\n",
       "</div>"
      ],
      "text/plain": [
       "       A   B\n",
       "row1  10  30\n",
       "row2  20  40"
      ]
     },
     "execution_count": 168,
     "metadata": {},
     "output_type": "execute_result"
    }
   ],
   "source": [
    "df = pd.DataFrame({\n",
    "    'A': [10, 20],\n",
    "    'B': [30, 40]\n",
    "}, index=['row1', 'row2'])\n",
    "\n",
    "df"
   ]
  },
  {
   "cell_type": "code",
   "execution_count": 169,
   "id": "ad016470",
   "metadata": {},
   "outputs": [
    {
     "data": {
      "text/html": [
       "<div>\n",
       "<style scoped>\n",
       "    .dataframe tbody tr th:only-of-type {\n",
       "        vertical-align: middle;\n",
       "    }\n",
       "\n",
       "    .dataframe tbody tr th {\n",
       "        vertical-align: top;\n",
       "    }\n",
       "\n",
       "    .dataframe thead th {\n",
       "        text-align: right;\n",
       "    }\n",
       "</style>\n",
       "<table border=\"1\" class=\"dataframe\">\n",
       "  <thead>\n",
       "    <tr style=\"text-align: right;\">\n",
       "      <th></th>\n",
       "      <th>A</th>\n",
       "    </tr>\n",
       "  </thead>\n",
       "  <tbody>\n",
       "    <tr>\n",
       "      <th>row1</th>\n",
       "      <td>NaN</td>\n",
       "    </tr>\n",
       "    <tr>\n",
       "      <th>row2</th>\n",
       "      <td>NaN</td>\n",
       "    </tr>\n",
       "  </tbody>\n",
       "</table>\n",
       "</div>"
      ],
      "text/plain": [
       "        A\n",
       "row1  NaN\n",
       "row2  NaN"
      ]
     },
     "execution_count": 169,
     "metadata": {},
     "output_type": "execute_result"
    }
   ],
   "source": [
    "s1  = pd.Series({\n",
    "    'A': [10, 20],\n",
    "    'B': [30, 40]\n",
    "})\n",
    "\n",
    "df = pd.DataFrame(s1, index=['row1', 'row2'],columns=['A'])\n",
    "\n",
    "df\n"
   ]
  },
  {
   "cell_type": "code",
   "execution_count": 170,
   "id": "aa023ce6",
   "metadata": {},
   "outputs": [
    {
     "name": "stdout",
     "output_type": "stream",
     "text": [
      "        X    Y\n",
      "row1  NaN  NaN\n",
      "row2  NaN  NaN\n"
     ]
    }
   ],
   "source": [
    "data = {\n",
    "    'A': [10, 20],\n",
    "    'B': [30, 40]\n",
    "}\n",
    "\n",
    "df = pd.DataFrame(data, index=['row1', 'row2'],columns=['X','Y'])\n",
    "print(df)"
   ]
  },
  {
   "cell_type": "code",
   "execution_count": 171,
   "id": "7411b863",
   "metadata": {},
   "outputs": [
    {
     "name": "stdout",
     "output_type": "stream",
     "text": [
      "      X   Y\n",
      "100  10  30\n",
      "200  20  40\n"
     ]
    }
   ],
   "source": [
    "data = {\n",
    "    'A': [10, 20],\n",
    "    'B': [30, 40]\n",
    "}\n",
    "\n",
    "df = pd.DataFrame(data, index=['row1', 'row2'])\n",
    "df.columns = ['X', 'Y']  # Rename columns\n",
    "df.index = [100,200]\n",
    "print(df)\n"
   ]
  },
  {
   "cell_type": "code",
   "execution_count": 172,
   "id": "a75cfd93",
   "metadata": {},
   "outputs": [
    {
     "name": "stdout",
     "output_type": "stream",
     "text": [
      "      Column1\n",
      "row1       10\n",
      "row2       20\n",
      "row3       30\n"
     ]
    }
   ],
   "source": [
    "import pandas as pd\n",
    "\n",
    "s = pd.Series([10, 20, 30], index=['row1', 'row2', 'row3'], name='Column1')\n",
    "\n",
    "df = pd.DataFrame(s)\n",
    "print(df)\n"
   ]
  },
  {
   "cell_type": "code",
   "execution_count": 173,
   "id": "f3f6c40c",
   "metadata": {},
   "outputs": [
    {
     "name": "stdout",
     "output_type": "stream",
     "text": [
      "      Column1  Column2\n",
      "row1       10       40\n",
      "row2       20       50\n",
      "row3       30       60\n"
     ]
    }
   ],
   "source": [
    "s1 = pd.Series([10, 20, 30], index=['row1', 'row2', 'row3'])\n",
    "s2 = pd.Series([40, 50, 60], index=['row1', 'row2', 'row3'])\n",
    "\n",
    "df = pd.DataFrame({'Column1': s1, 'Column2': s2})\n",
    "print(df)\n"
   ]
  },
  {
   "cell_type": "code",
   "execution_count": 174,
   "id": "9c2a362b",
   "metadata": {},
   "outputs": [
    {
     "name": "stdout",
     "output_type": "stream",
     "text": [
      "      Column1  Column2\n",
      "row1       10       40\n",
      "row2       20       50\n",
      "row3       30       60\n"
     ]
    }
   ],
   "source": [
    "data = {\n",
    "    'Column1': pd.Series([10, 20, 30], index=['row1', 'row2', 'row3']),\n",
    "    'Column2': pd.Series([40, 50, 60], index=['row1', 'row2', 'row3'])\n",
    "}\n",
    "\n",
    "df = pd.DataFrame(data)\n",
    "print(df)\n"
   ]
  },
  {
   "cell_type": "code",
   "execution_count": 175,
   "id": "62aa83ed",
   "metadata": {},
   "outputs": [
    {
     "data": {
      "text/html": [
       "<div>\n",
       "<style scoped>\n",
       "    .dataframe tbody tr th:only-of-type {\n",
       "        vertical-align: middle;\n",
       "    }\n",
       "\n",
       "    .dataframe tbody tr th {\n",
       "        vertical-align: top;\n",
       "    }\n",
       "\n",
       "    .dataframe thead th {\n",
       "        text-align: right;\n",
       "    }\n",
       "</style>\n",
       "<table border=\"1\" class=\"dataframe\">\n",
       "  <thead>\n",
       "    <tr style=\"text-align: right;\">\n",
       "      <th></th>\n",
       "      <th>a</th>\n",
       "    </tr>\n",
       "  </thead>\n",
       "  <tbody>\n",
       "    <tr>\n",
       "      <th>row1</th>\n",
       "      <td>NaN</td>\n",
       "    </tr>\n",
       "    <tr>\n",
       "      <th>row2</th>\n",
       "      <td>NaN</td>\n",
       "    </tr>\n",
       "  </tbody>\n",
       "</table>\n",
       "</div>"
      ],
      "text/plain": [
       "        a\n",
       "row1  NaN\n",
       "row2  NaN"
      ]
     },
     "execution_count": 175,
     "metadata": {},
     "output_type": "execute_result"
    }
   ],
   "source": [
    "s1  = pd.Series({\n",
    "    'A': [10, 20],\n",
    "    'B': [30, 40]\n",
    "})\n",
    "\n",
    "df = pd.DataFrame(s1, index=['row1', 'row2'],columns=['a'])\n",
    "\n",
    "df"
   ]
  },
  {
   "cell_type": "code",
   "execution_count": 176,
   "id": "451aac20",
   "metadata": {},
   "outputs": [
    {
     "name": "stdout",
     "output_type": "stream",
     "text": [
      "       a\n",
      "row1  10\n",
      "row2  20\n"
     ]
    }
   ],
   "source": [
    "s1 = pd.Series({\n",
    "    'A': [10, 20],\n",
    "    'B': [30, 40]\n",
    "})\n",
    "\n",
    "# Using only one column in the DataFrame, we can directly flatten the structure\n",
    "df = pd.DataFrame(s1['A'], index=['row1', 'row2'], columns=['a'])\n",
    "print(df)\n"
   ]
  }
 ],
 "metadata": {
  "kernelspec": {
   "display_name": "python12",
   "language": "python",
   "name": "python3"
  },
  "language_info": {
   "codemirror_mode": {
    "name": "ipython",
    "version": 3
   },
   "file_extension": ".py",
   "mimetype": "text/x-python",
   "name": "python",
   "nbconvert_exporter": "python",
   "pygments_lexer": "ipython3",
   "version": "3.12.0"
  }
 },
 "nbformat": 4,
 "nbformat_minor": 5
}
