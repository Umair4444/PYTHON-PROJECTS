{
 "cells": [
  {
   "cell_type": "markdown",
   "id": "e8f18bd7",
   "metadata": {},
   "source": []
  },
  {
   "cell_type": "code",
   "execution_count": 2,
   "id": "b96b91d2",
   "metadata": {},
   "outputs": [
    {
     "data": {
      "text/plain": [
       "'object : 5000'"
      ]
     },
     "metadata": {},
     "output_type": "display_data"
    },
    {
     "data": {
      "text/plain": [
       "'object shape : ()'"
      ]
     },
     "metadata": {},
     "output_type": "display_data"
    },
    {
     "data": {
      "text/plain": [
       "'object dtype : <U4'"
      ]
     },
     "metadata": {},
     "output_type": "display_data"
    },
    {
     "data": {
      "text/plain": [
       "\"object type : <class 'numpy.ndarray'>\""
      ]
     },
     "metadata": {},
     "output_type": "display_data"
    },
    {
     "data": {
      "text/plain": [
       "'object ndim : 0'"
      ]
     },
     "metadata": {},
     "output_type": "display_data"
    },
    {
     "data": {
      "text/plain": [
       "'object size : 1'"
      ]
     },
     "metadata": {},
     "output_type": "display_data"
    },
    {
     "data": {
      "text/plain": [
       "'object itemsize : 16'"
      ]
     },
     "metadata": {},
     "output_type": "display_data"
    }
   ],
   "source": [
    "import numpy as np\n",
    "\n",
    "numpy_val : np.ndarray = np.array('5000')\n",
    "\n",
    "display(f\"object : {numpy_val}\")\n",
    "display(f\"object shape : {numpy_val.shape}\")\n",
    "display(f\"object dtype : {numpy_val.dtype}\")\n",
    "display(f\"object type : {type(numpy_val)}\")\n",
    "display(f\"object ndim : {numpy_val.ndim}\")\n",
    "display(f\"object size : {numpy_val.size}\")\n",
    "display(f\"object itemsize : {numpy_val.itemsize}\")"
   ]
  },
  {
   "cell_type": "code",
   "execution_count": 5,
   "id": "e4846b76",
   "metadata": {},
   "outputs": [
    {
     "data": {
      "text/plain": [
       "\"object : ['a' 'c' 'hello' 'no where' 'fast']\""
      ]
     },
     "metadata": {},
     "output_type": "display_data"
    },
    {
     "data": {
      "text/plain": [
       "'object shape : (5,)'"
      ]
     },
     "metadata": {},
     "output_type": "display_data"
    },
    {
     "data": {
      "text/plain": [
       "'object dtype : <U8'"
      ]
     },
     "metadata": {},
     "output_type": "display_data"
    },
    {
     "data": {
      "text/plain": [
       "\"object type : <class 'numpy.ndarray'>\""
      ]
     },
     "metadata": {},
     "output_type": "display_data"
    },
    {
     "data": {
      "text/plain": [
       "'object ndim : 1'"
      ]
     },
     "metadata": {},
     "output_type": "display_data"
    },
    {
     "data": {
      "text/plain": [
       "'object size : 5'"
      ]
     },
     "metadata": {},
     "output_type": "display_data"
    },
    {
     "data": {
      "text/plain": [
       "'object itemsize : 32'"
      ]
     },
     "metadata": {},
     "output_type": "display_data"
    }
   ],
   "source": [
    "import numpy as np\n",
    "\n",
    "numpy_val : np.ndarray = np.array(['a','c','hello','no where','fast'])\n",
    "\n",
    "display(f\"object : {numpy_val}\")\n",
    "display(f\"object shape : {numpy_val.shape}\")\n",
    "display(f\"object dtype : {numpy_val.dtype}\")\n",
    "display(f\"object type : {type(numpy_val)}\")\n",
    "display(f\"object ndim : {numpy_val.ndim}\")\n",
    "display(f\"object size : {numpy_val.size}\")\n",
    "display(f\"object itemsize : {numpy_val.itemsize}\")"
   ]
  },
  {
   "cell_type": "code",
   "execution_count": 2,
   "id": "0a1ca5b8",
   "metadata": {},
   "outputs": [
    {
     "data": {
      "text/plain": [
       "'object : [    1     2     3     4     5     6   100  1222 13424]'"
      ]
     },
     "metadata": {},
     "output_type": "display_data"
    },
    {
     "data": {
      "text/plain": [
       "'object shape : (9,)'"
      ]
     },
     "metadata": {},
     "output_type": "display_data"
    },
    {
     "data": {
      "text/plain": [
       "'object dtype : int64'"
      ]
     },
     "metadata": {},
     "output_type": "display_data"
    },
    {
     "data": {
      "text/plain": [
       "\"object type : <class 'numpy.ndarray'>\""
      ]
     },
     "metadata": {},
     "output_type": "display_data"
    },
    {
     "data": {
      "text/plain": [
       "'object ndim : 1'"
      ]
     },
     "metadata": {},
     "output_type": "display_data"
    },
    {
     "data": {
      "text/plain": [
       "'object size : 9'"
      ]
     },
     "metadata": {},
     "output_type": "display_data"
    },
    {
     "data": {
      "text/plain": [
       "'object itemsize : 8'"
      ]
     },
     "metadata": {},
     "output_type": "display_data"
    }
   ],
   "source": [
    "import numpy as np\n",
    "\n",
    "numpy_val : np.ndarray = np.array([1,2,3,4,5,6,100,1222,13424])\n",
    "\n",
    "display(f\"object : {numpy_val}\")\n",
    "display(f\"object shape : {numpy_val.shape}\")\n",
    "display(f\"object dtype : {numpy_val.dtype}\")\n",
    "display(f\"object type : {type(numpy_val)}\")\n",
    "display(f\"object ndim : {numpy_val.ndim}\")\n",
    "display(f\"object size : {numpy_val.size}\")\n",
    "display(f\"object itemsize : {numpy_val.itemsize}\")"
   ]
  },
  {
   "cell_type": "code",
   "execution_count": 7,
   "id": "213e8013",
   "metadata": {},
   "outputs": [
    {
     "data": {
      "text/plain": [
       "'object : [[1 2 1 4]\\n [1 1 3 4]\\n [4 7 8 9]]'"
      ]
     },
     "metadata": {},
     "output_type": "display_data"
    },
    {
     "data": {
      "text/plain": [
       "'object shape : (3, 4)'"
      ]
     },
     "metadata": {},
     "output_type": "display_data"
    },
    {
     "data": {
      "text/plain": [
       "'object dtype : int64'"
      ]
     },
     "metadata": {},
     "output_type": "display_data"
    },
    {
     "data": {
      "text/plain": [
       "\"object type : <class 'numpy.ndarray'>\""
      ]
     },
     "metadata": {},
     "output_type": "display_data"
    },
    {
     "data": {
      "text/plain": [
       "'object ndim : 2'"
      ]
     },
     "metadata": {},
     "output_type": "display_data"
    },
    {
     "data": {
      "text/plain": [
       "'object size : 12'"
      ]
     },
     "metadata": {},
     "output_type": "display_data"
    },
    {
     "data": {
      "text/plain": [
       "'object itemsize : 8'"
      ]
     },
     "metadata": {},
     "output_type": "display_data"
    }
   ],
   "source": [
    "import numpy as np\n",
    "\n",
    "numpy_val : np.ndarray = np.array([[1,2,1,4],[1,1,3,4],[4,7,8,9]])\n",
    "\n",
    "display(f\"object : {numpy_val}\")\n",
    "display(f\"object shape : {numpy_val.shape}\")\n",
    "display(f\"object dtype : {numpy_val.dtype}\")\n",
    "display(f\"object type : {type(numpy_val)}\")\n",
    "display(f\"object ndim : {numpy_val.ndim}\")\n",
    "display(f\"object size : {numpy_val.size}\")\n",
    "display(f\"object itemsize : {numpy_val.itemsize}\")"
   ]
  },
  {
   "cell_type": "code",
   "execution_count": 8,
   "id": "af2a8db9",
   "metadata": {},
   "outputs": [
    {
     "data": {
      "text/plain": [
       "'object : [[[ 1  2  9]\\n  [ 1  4 88]]\\n\\n [[ 1  1  0]\\n  [ 3  4  4]]\\n\\n [[ 1  1  0]\\n  [ 3  4  4]]]'"
      ]
     },
     "metadata": {},
     "output_type": "display_data"
    },
    {
     "data": {
      "text/plain": [
       "'object shape : (3, 2, 3)'"
      ]
     },
     "metadata": {},
     "output_type": "display_data"
    },
    {
     "data": {
      "text/plain": [
       "'object dtype : int64'"
      ]
     },
     "metadata": {},
     "output_type": "display_data"
    },
    {
     "data": {
      "text/plain": [
       "\"object type : <class 'numpy.ndarray'>\""
      ]
     },
     "metadata": {},
     "output_type": "display_data"
    },
    {
     "data": {
      "text/plain": [
       "'object ndim : 3'"
      ]
     },
     "metadata": {},
     "output_type": "display_data"
    },
    {
     "data": {
      "text/plain": [
       "'object size : 18'"
      ]
     },
     "metadata": {},
     "output_type": "display_data"
    },
    {
     "data": {
      "text/plain": [
       "'object itemsize : 8'"
      ]
     },
     "metadata": {},
     "output_type": "display_data"
    }
   ],
   "source": [
    "import numpy as np\n",
    "\n",
    "numpy_val : np.ndarray = np.array([[[1,2,9],[1,4,88]],[[1,1,0],[3,4,4]],[[1,1,0],[3,4,4]]])\n",
    "\n",
    "display(f\"object : {numpy_val}\")\n",
    "display(f\"object shape : {numpy_val.shape}\")\n",
    "display(f\"object dtype : {numpy_val.dtype}\")\n",
    "display(f\"object type : {type(numpy_val)}\")\n",
    "display(f\"object ndim : {numpy_val.ndim}\")\n",
    "display(f\"object size : {numpy_val.size}\")\n",
    "display(f\"object itemsize : {numpy_val.itemsize}\")"
   ]
  },
  {
   "cell_type": "code",
   "execution_count": null,
   "id": "80e46998",
   "metadata": {},
   "outputs": [
    {
     "data": {
      "text/plain": [
       "array([ 0,  1,  2,  3,  4,  5,  6,  7,  8,  9, 10])"
      ]
     },
     "execution_count": 3,
     "metadata": {},
     "output_type": "execute_result"
    }
   ],
   "source": [
    "data = np.arange(11)\n",
    "data"
   ]
  },
  {
   "cell_type": "code",
   "execution_count": 10,
   "id": "30bd66c6",
   "metadata": {},
   "outputs": [
    {
     "data": {
      "text/plain": [
       "array([1, 3, 5, 7, 9])"
      ]
     },
     "execution_count": 10,
     "metadata": {},
     "output_type": "execute_result"
    }
   ],
   "source": [
    "data = np.arange(1,11,2)\n",
    "data"
   ]
  },
  {
   "cell_type": "code",
   "execution_count": 11,
   "id": "583c7e86",
   "metadata": {},
   "outputs": [
    {
     "data": {
      "text/plain": [
       "array([6, 7, 8, 9])"
      ]
     },
     "execution_count": 11,
     "metadata": {},
     "output_type": "execute_result"
    }
   ],
   "source": [
    "data = np.arange(1,5)\n",
    "data + 5"
   ]
  },
  {
   "cell_type": "code",
   "execution_count": null,
   "id": "f3e6cb4e",
   "metadata": {},
   "outputs": [
    {
     "name": "stdout",
     "output_type": "stream",
     "text": [
      "CPU times: total: 0 ns\n",
      "Wall time: 0 ns\n"
     ]
    },
    {
     "data": {
      "text/plain": [
       "[1, 3, 7, 9]"
      ]
     },
     "execution_count": 12,
     "metadata": {},
     "output_type": "execute_result"
    }
   ],
   "source": [
    "list1 = [1,3,7,9]\n",
    "list1\n",
    "# list1 + 5 # error"
   ]
  },
  {
   "cell_type": "code",
   "execution_count": null,
   "id": "c23dd5de",
   "metadata": {},
   "outputs": [
    {
     "name": "stdout",
     "output_type": "stream",
     "text": [
      "CPU times: total: 0 ns\n",
      "Wall time: 0 ns\n"
     ]
    },
    {
     "data": {
      "text/plain": [
       "[3, 5, 9, 11]"
      ]
     },
     "execution_count": 10,
     "metadata": {},
     "output_type": "execute_result"
    }
   ],
   "source": [
    "list1 = [1,3,7,9]\n",
    "[i+2 for i in list1]"
   ]
  },
  {
   "cell_type": "code",
   "execution_count": 32,
   "id": "d34c45ec",
   "metadata": {},
   "outputs": [
    {
     "name": "stdout",
     "output_type": "stream",
     "text": [
      "CPU times: total: 422 ms\n",
      "Wall time: 647 ms\n"
     ]
    }
   ],
   "source": [
    "%%time\n",
    "\n",
    "num1 = list(range(1, 10000000))\n"
   ]
  },
  {
   "cell_type": "code",
   "execution_count": 33,
   "id": "b457d832",
   "metadata": {},
   "outputs": [
    {
     "name": "stdout",
     "output_type": "stream",
     "text": [
      "CPU times: total: 156 ms\n",
      "Wall time: 302 ms\n"
     ]
    }
   ],
   "source": [
    "%%time\n",
    "import numpy as np\n",
    "\n",
    "num1 = np.arange(1,10000000)"
   ]
  },
  {
   "cell_type": "code",
   "execution_count": 41,
   "id": "cd7d55ac",
   "metadata": {},
   "outputs": [
    {
     "name": "stdout",
     "output_type": "stream",
     "text": [
      "[ 1  2  3  4  5  6  7  8  9 10 11 12 13 14 15 16 17 18 19]\n",
      "[1 2 3 4]\n",
      "[1 2 3 4]\n",
      "[ 7  8  9 10 11 12 13]\n",
      "[ 7  8  9 10]\n",
      "[ 1  2  3  4  5  6  7  8  9 10 11 12 13 14 15 16 17 18 19]\n",
      "[ 1  2  3  4  5  6  4  4  4  4 11 12 13 14 15 16 17 18 19]\n"
     ]
    }
   ],
   "source": [
    "ndata = np.arange(1,20)\n",
    "print(ndata)\n",
    "print(ndata[:4])\n",
    "print(ndata[0:4])\n",
    "print(ndata[6:13])\n",
    "print( ndata[6:10] )\n",
    "\n",
    "print(ndata)\n",
    "\n",
    "ndata[6:10] = 4\n",
    "\n",
    "print(ndata)\n",
    "\n"
   ]
  },
  {
   "cell_type": "code",
   "execution_count": 4,
   "id": "ff4b4aed",
   "metadata": {},
   "outputs": [
    {
     "data": {
      "text/plain": [
       "array([ 1,  4,  6,  7, 13])"
      ]
     },
     "metadata": {},
     "output_type": "display_data"
    },
    {
     "data": {
      "text/plain": [
       "array([11,  9,  8, 25, 11, 43,  8, 13, 41, 21, 20, 46, 30,  8, 41,  9, 18,\n",
       "       24, 14,  6], dtype=int32)"
      ]
     },
     "metadata": {},
     "output_type": "display_data"
    }
   ],
   "source": [
    "state_bank = np.array([1,4,6,7,13])\n",
    "unl_bank = np.random.randint(1,50,20)\n",
    "\n",
    "display(state_bank)\n",
    "display(unl_bank)"
   ]
  },
  {
   "cell_type": "code",
   "execution_count": 5,
   "id": "779322f8",
   "metadata": {},
   "outputs": [],
   "source": [
    "select = np.array([True,False,True,False,False])"
   ]
  },
  {
   "cell_type": "code",
   "execution_count": 74,
   "id": "fd1b5665",
   "metadata": {},
   "outputs": [
    {
     "data": {
      "text/plain": [
       "array([1, 6])"
      ]
     },
     "execution_count": 74,
     "metadata": {},
     "output_type": "execute_result"
    }
   ],
   "source": [
    "state_bank[select]"
   ]
  },
  {
   "cell_type": "code",
   "execution_count": 75,
   "id": "a628e218",
   "metadata": {},
   "outputs": [
    {
     "data": {
      "text/plain": [
       "np.int64(4)"
      ]
     },
     "execution_count": 75,
     "metadata": {},
     "output_type": "execute_result"
    }
   ],
   "source": [
    "state_bank[1]"
   ]
  },
  {
   "cell_type": "code",
   "execution_count": 76,
   "id": "7e1fa811",
   "metadata": {},
   "outputs": [
    {
     "data": {
      "text/plain": [
       "array([ True, False, False,  True,  True])"
      ]
     },
     "execution_count": 76,
     "metadata": {},
     "output_type": "execute_result"
    }
   ],
   "source": [
    "state_bank % 2 != 0\n",
    "# state_bank % 2 == 0"
   ]
  },
  {
   "cell_type": "code",
   "execution_count": null,
   "id": "3918494d",
   "metadata": {},
   "outputs": [
    {
     "data": {
      "text/plain": [
       "array([[ 1,  4,  6,  7, 13]])"
      ]
     },
     "execution_count": 10,
     "metadata": {},
     "output_type": "execute_result"
    }
   ],
   "source": [
    "# state_bank[state_bank % 2 != 0]\n",
    "# state_bank[state_bank % 2 == 0]\n",
    "# state_bank[False]\n",
    "state_bank[True]"
   ]
  },
  {
   "cell_type": "code",
   "execution_count": null,
   "id": "ee174174",
   "metadata": {},
   "outputs": [
    {
     "data": {
      "text/plain": [
       "array([ 1,  4,  6,  7, 13])"
      ]
     },
     "metadata": {},
     "output_type": "display_data"
    },
    {
     "data": {
      "text/plain": [
       "array([11,  9,  8, 25, 11, 43,  8, 13, 41, 21, 20, 46, 30,  8, 41,  9, 18,\n",
       "       24, 14,  6], dtype=int32)"
      ]
     },
     "metadata": {},
     "output_type": "display_data"
    },
    {
     "data": {
      "text/plain": [
       "array([False, False, False, False, False, False, False,  True, False,\n",
       "       False, False, False, False, False, False, False, False, False,\n",
       "       False,  True])"
      ]
     },
     "execution_count": 12,
     "metadata": {},
     "output_type": "execute_result"
    }
   ],
   "source": [
    "\n",
    "display(state_bank)\n",
    "display(unl_bank)\n",
    "\n",
    "np.isin(unl_bank,state_bank) # bool value"
   ]
  },
  {
   "cell_type": "code",
   "execution_count": null,
   "id": "33ccf479",
   "metadata": {},
   "outputs": [
    {
     "data": {
      "text/plain": [
       "array([ 1,  4,  6,  7, 13])"
      ]
     },
     "metadata": {},
     "output_type": "display_data"
    },
    {
     "data": {
      "text/plain": [
       "array([11,  9,  8, 25, 11, 43,  8, 13, 41, 21, 20, 46, 30,  8, 41,  9, 18,\n",
       "       24, 14,  6], dtype=int32)"
      ]
     },
     "metadata": {},
     "output_type": "display_data"
    },
    {
     "data": {
      "text/plain": [
       "array([False, False,  True, False,  True])"
      ]
     },
     "execution_count": 13,
     "metadata": {},
     "output_type": "execute_result"
    }
   ],
   "source": [
    "\n",
    "display(state_bank)\n",
    "display(unl_bank)\n",
    "\n",
    "np.isin(state_bank,unl_bank)  # bool value\n"
   ]
  },
  {
   "cell_type": "code",
   "execution_count": 119,
   "id": "500b6676",
   "metadata": {},
   "outputs": [
    {
     "data": {
      "text/plain": [
       "array([ 1,  4,  6,  7, 13])"
      ]
     },
     "metadata": {},
     "output_type": "display_data"
    },
    {
     "data": {
      "text/plain": [
       "array([14,  7, 20, 38, 28, 21, 35, 43, 44, 38, 16,  3, 40, 34, 40,  1, 27,\n",
       "       30, 48, 32], dtype=int32)"
      ]
     },
     "metadata": {},
     "output_type": "display_data"
    },
    {
     "data": {
      "text/plain": [
       "array([1, 7])"
      ]
     },
     "execution_count": 119,
     "metadata": {},
     "output_type": "execute_result"
    }
   ],
   "source": [
    "\n",
    "display(state_bank)\n",
    "display(unl_bank)\n",
    "\n",
    "state_bank[np.isin(state_bank,unl_bank)]"
   ]
  },
  {
   "cell_type": "code",
   "execution_count": 121,
   "id": "c353e34e",
   "metadata": {},
   "outputs": [
    {
     "data": {
      "text/plain": [
       "array([1, 7])"
      ]
     },
     "execution_count": 121,
     "metadata": {},
     "output_type": "execute_result"
    }
   ],
   "source": [
    "np.intersect1d(state_bank,unl_bank)"
   ]
  },
  {
   "cell_type": "code",
   "execution_count": 123,
   "id": "a326b3b1",
   "metadata": {},
   "outputs": [
    {
     "data": {
      "text/plain": [
       "array([1, 7])"
      ]
     },
     "execution_count": 123,
     "metadata": {},
     "output_type": "execute_result"
    }
   ],
   "source": [
    "np.intersect1d(unl_bank,state_bank)"
   ]
  },
  {
   "cell_type": "code",
   "execution_count": null,
   "id": "1f3a92f2",
   "metadata": {},
   "outputs": [
    {
     "ename": "ValueError",
     "evalue": "operands could not be broadcast together with shapes (5,) (20,) ",
     "output_type": "error",
     "traceback": [
      "\u001b[1;31m---------------------------------------------------------------------------\u001b[0m",
      "\u001b[1;31mValueError\u001b[0m                                Traceback (most recent call last)",
      "Cell \u001b[1;32mIn[124], line 1\u001b[0m\n\u001b[1;32m----> 1\u001b[0m np\u001b[38;5;241m.\u001b[39mwhere(\u001b[43mstate_bank\u001b[49m\u001b[43m \u001b[49m\u001b[38;5;241;43m>\u001b[39;49m\u001b[43m \u001b[49m\u001b[43munl_bank\u001b[49m,state_bank,unl_bank)\n",
      "\u001b[1;31mValueError\u001b[0m: operands could not be broadcast together with shapes (5,) (20,) "
     ]
    }
   ],
   "source": [
    "np.where(state_bank > unl_bank,state_bank,unl_bank) # both array should be of same rowns and column i.e same dimension and size"
   ]
  },
  {
   "cell_type": "code",
   "execution_count": 15,
   "id": "086f97e2",
   "metadata": {},
   "outputs": [
    {
     "data": {
      "text/plain": [
       "array([ 3,  8, 37, 49, 50,  1, 68, 22, 26, 18, 33, 74, 74,  1,  2, 79, 83,\n",
       "       24, 27, 92], dtype=int32)"
      ]
     },
     "metadata": {},
     "output_type": "display_data"
    },
    {
     "data": {
      "text/plain": [
       "array([31, 52, 59, 45, 84, 15, 45, 93, 48, 32, 86, 56, 18, 22, 75,  1, 31,\n",
       "       93, 48, 12], dtype=int32)"
      ]
     },
     "metadata": {},
     "output_type": "display_data"
    },
    {
     "data": {
      "text/plain": [
       "array([ 0,  0,  0, 49,  0,  0, 68,  0,  0,  0,  0, 74, 74,  0,  0, 79, 83,\n",
       "        0,  0, 92], dtype=int32)"
      ]
     },
     "metadata": {},
     "output_type": "display_data"
    },
    {
     "data": {
      "text/plain": [
       "array([31, 52, 59, 49, 84, 15, 68, 93, 48, 32, 86, 74, 74, 22, 75, 79, 83,\n",
       "       93, 48, 92], dtype=int32)"
      ]
     },
     "metadata": {},
     "output_type": "display_data"
    }
   ],
   "source": [
    "x = np.random.randint(1,100,20)\n",
    "y = np.random.randint(1,100,20)\n",
    "\n",
    "# z = np.where(x > y , x, \"less\") # gives x if x > y and less if y > x\n",
    "z1 = np.where(x > y , x, 0) # gives x if x > y and gives 0 if y > x\n",
    "z2 = np.where(x > y , x, y) # gives x if x > y and gives y if y > x\n",
    "\n",
    "display(x)\n",
    "display(y)\n",
    "\n",
    "display(z1)\n",
    "display(z2)\n"
   ]
  },
  {
   "cell_type": "code",
   "execution_count": 149,
   "id": "16ade8ce",
   "metadata": {},
   "outputs": [
    {
     "name": "stdout",
     "output_type": "stream",
     "text": [
      "[[1 2 3]\n",
      " [4 5 6]]\n",
      "[['d' 'f']\n",
      " ['m' 'n']]\n",
      "[['B']\n",
      " ['A']]\n",
      "['Z' 'Y']\n"
     ]
    }
   ],
   "source": [
    "a = np.array([[1,2,3],[4,5,6]])\n",
    "b = np.array([['d','f'],['m','n']])\n",
    "c = np.array([['B'],['A']])\n",
    "d = np.array(['Z','Y'])\n",
    "\n",
    "print(a)\n",
    "print(b)\n",
    "print(c)\n",
    "print(d)"
   ]
  },
  {
   "cell_type": "code",
   "execution_count": 163,
   "id": "3ee737fd",
   "metadata": {},
   "outputs": [
    {
     "data": {
      "text/plain": [
       "array([[0, 1, 2],\n",
       "       [3, 4, 5],\n",
       "       [6, 7, 8]])"
      ]
     },
     "metadata": {},
     "output_type": "display_data"
    },
    {
     "data": {
      "text/plain": [
       "array([[ 0,  1,  2],\n",
       "       [ 3,  4,  5],\n",
       "       [ 6,  7,  8],\n",
       "       [ 9, 10, 11],\n",
       "       [12, 13, 14]])"
      ]
     },
     "metadata": {},
     "output_type": "display_data"
    },
    {
     "data": {
      "text/plain": [
       "array([[ 0,  1,  2,  3,  4],\n",
       "       [ 5,  6,  7,  8,  9],\n",
       "       [10, 11, 12, 13, 14]])"
      ]
     },
     "metadata": {},
     "output_type": "display_data"
    },
    {
     "data": {
      "text/plain": [
       "array([[ 0,  1,  2,  3,  4],\n",
       "       [ 5,  6,  7,  8,  9],\n",
       "       [10, 11, 12, 13, 14]])"
      ]
     },
     "metadata": {},
     "output_type": "display_data"
    },
    {
     "data": {
      "text/plain": [
       "array([[ 0,  1,  2],\n",
       "       [ 3,  4,  5],\n",
       "       [ 6,  7,  8],\n",
       "       [ 9, 10, 11],\n",
       "       [12, 13, 14]])"
      ]
     },
     "metadata": {},
     "output_type": "display_data"
    }
   ],
   "source": [
    "a = np.arange(3*3).reshape(3,3)\n",
    "display(a)\n",
    "\n",
    "b = np.arange(5*3).reshape(5,3)\n",
    "display(b)\n",
    "\n",
    "c = np.arange(3*5).reshape(3,5)\n",
    "display(c)\n",
    "\n",
    "d = np.arange(5*3).reshape(3,5)\n",
    "display(d)\n",
    "\n",
    "e = np.arange(3*5).reshape(5,3)\n",
    "display(e)\n",
    "\n"
   ]
  },
  {
   "cell_type": "code",
   "execution_count": 183,
   "id": "a7a425ab",
   "metadata": {},
   "outputs": [
    {
     "data": {
      "text/plain": [
       "array([[[ 0,  1,  2,  3],\n",
       "        [ 4,  5,  6,  7],\n",
       "        [ 8,  9, 10, 11]],\n",
       "\n",
       "       [[12, 13, 14, 15],\n",
       "        [16, 17, 18, 19],\n",
       "        [20, 21, 22, 23]],\n",
       "\n",
       "       [[24, 25, 26, 27],\n",
       "        [28, 29, 30, 31],\n",
       "        [32, 33, 34, 35]]])"
      ]
     },
     "metadata": {},
     "output_type": "display_data"
    }
   ],
   "source": [
    "x = np.arange(3*3*4).reshape(3,3,4) \n",
    "display(x)"
   ]
  },
  {
   "cell_type": "code",
   "execution_count": 20,
   "id": "0aacc525",
   "metadata": {},
   "outputs": [
    {
     "data": {
      "text/plain": [
       "array([[ 3, 12,  4, 16,  9, 10, 17, 19,  2, 14],\n",
       "       [20,  7, 20, 10, 12,  3, 13, 13, 11,  8],\n",
       "       [17, 16, 10, 15, 15,  3, 10,  3,  2, 12],\n",
       "       [14,  8,  9,  7, 20,  3,  6, 15, 12,  6],\n",
       "       [ 2, 18,  3, 19,  7, 18, 16, 14,  3,  9]])"
      ]
     },
     "execution_count": 20,
     "metadata": {},
     "output_type": "execute_result"
    }
   ],
   "source": [
    "data = np.random.randint(1,21,(5,10))\n",
    "data"
   ]
  },
  {
   "cell_type": "code",
   "execution_count": 30,
   "id": "0ec9507e",
   "metadata": {},
   "outputs": [
    {
     "data": {
      "text/plain": [
       "array([[0.07736429, 0.17251197, 0.68132126, 0.34670346],\n",
       "       [0.72802974, 0.43738999, 0.68583818, 0.92117072],\n",
       "       [0.90034704, 0.21894986, 0.84493529, 0.01536689],\n",
       "       [0.98099045, 0.40834876, 0.64795831, 0.30621017],\n",
       "       [0.935176  , 0.06767965, 0.86720328, 0.76762147],\n",
       "       [0.75148326, 0.52615986, 0.76959318, 0.15365949],\n",
       "       [0.91357457, 0.37325691, 0.12944615, 0.28189219],\n",
       "       [0.14403719, 0.18747771, 0.9705933 , 0.2031553 ],\n",
       "       [0.93114372, 0.55790975, 0.34332766, 0.21901737],\n",
       "       [0.1371063 , 0.89802195, 0.01740915, 0.38546459]])"
      ]
     },
     "execution_count": 30,
     "metadata": {},
     "output_type": "execute_result"
    }
   ],
   "source": [
    "data = np.random.random((10,4))\n",
    "data"
   ]
  },
  {
   "cell_type": "code",
   "execution_count": 33,
   "id": "9505e220",
   "metadata": {},
   "outputs": [
    {
     "data": {
      "text/plain": [
       "0.6383753031867107"
      ]
     },
     "execution_count": 33,
     "metadata": {},
     "output_type": "execute_result"
    }
   ],
   "source": [
    "data = np.random.rand()\n",
    "data"
   ]
  },
  {
   "cell_type": "code",
   "execution_count": 195,
   "id": "23c62a98",
   "metadata": {},
   "outputs": [
    {
     "data": {
      "text/plain": [
       "array([[[ 0,  1,  2,  3],\n",
       "        [ 4,  5,  6,  7],\n",
       "        [ 8,  9, 10, 11]],\n",
       "\n",
       "       [[12, 13, 14, 15],\n",
       "        [16, 17, 18, 19],\n",
       "        [20, 21, 22, 23]]])"
      ]
     },
     "execution_count": 195,
     "metadata": {},
     "output_type": "execute_result"
    }
   ],
   "source": [
    "x[0:-1]"
   ]
  },
  {
   "cell_type": "code",
   "execution_count": 197,
   "id": "13086a11",
   "metadata": {},
   "outputs": [
    {
     "data": {
      "text/plain": [
       "array([[[ 0,  1,  2,  3],\n",
       "        [ 4,  5,  6,  7],\n",
       "        [ 8,  9, 10, 11]],\n",
       "\n",
       "       [[24, 25, 26, 27],\n",
       "        [28, 29, 30, 31],\n",
       "        [32, 33, 34, 35]]])"
      ]
     },
     "execution_count": 197,
     "metadata": {},
     "output_type": "execute_result"
    }
   ],
   "source": [
    "x[[0,-1],::,::]"
   ]
  },
  {
   "cell_type": "code",
   "execution_count": 225,
   "id": "1eff2491",
   "metadata": {},
   "outputs": [
    {
     "data": {
      "text/plain": [
       "array([[[ 0,  1,  2,  3]],\n",
       "\n",
       "       [[24, 25, 26, 27]]])"
      ]
     },
     "execution_count": 225,
     "metadata": {},
     "output_type": "execute_result"
    }
   ],
   "source": [
    "x[[0,-1],0:1:,::]"
   ]
  },
  {
   "cell_type": "code",
   "execution_count": 229,
   "id": "610b6d9c",
   "metadata": {},
   "outputs": [
    {
     "data": {
      "text/plain": [
       "array([[ 1,  2],\n",
       "       [33, 34]])"
      ]
     },
     "execution_count": 229,
     "metadata": {},
     "output_type": "execute_result"
    }
   ],
   "source": [
    "x[[0,-1],[0,2],1:3:]"
   ]
  },
  {
   "cell_type": "code",
   "execution_count": 204,
   "id": "8fdd2b02",
   "metadata": {},
   "outputs": [
    {
     "data": {
      "text/plain": [
       "array([[[ 1,  2]],\n",
       "\n",
       "       [[25, 26]]])"
      ]
     },
     "execution_count": 204,
     "metadata": {},
     "output_type": "execute_result"
    }
   ],
   "source": [
    "x[[0,-1],0:1:,1:3:]"
   ]
  },
  {
   "cell_type": "code",
   "execution_count": 205,
   "id": "fe95422e",
   "metadata": {},
   "outputs": [
    {
     "data": {
      "text/plain": [
       "array([[[ 0,  2]],\n",
       "\n",
       "       [[24, 26]]])"
      ]
     },
     "execution_count": 205,
     "metadata": {},
     "output_type": "execute_result"
    }
   ],
   "source": [
    "x[[0,-1],0:1:,::2]"
   ]
  },
  {
   "cell_type": "code",
   "execution_count": 213,
   "id": "d1db7f84",
   "metadata": {},
   "outputs": [
    {
     "data": {
      "text/plain": [
       "array([[[ 0,  2]],\n",
       "\n",
       "       [[24, 26]]])"
      ]
     },
     "execution_count": 213,
     "metadata": {},
     "output_type": "execute_result"
    }
   ],
   "source": [
    "x[0::2,0:1:,::2]"
   ]
  },
  {
   "cell_type": "code",
   "execution_count": 166,
   "id": "3361df20",
   "metadata": {},
   "outputs": [
    {
     "data": {
      "text/plain": [
       "array([ 0,  2,  4,  6,  8, 10, 12, 14, 16, 18, 20, 22])"
      ]
     },
     "execution_count": 166,
     "metadata": {},
     "output_type": "execute_result"
    }
   ],
   "source": [
    "x[x%2==0]"
   ]
  },
  {
   "cell_type": "code",
   "execution_count": 168,
   "id": "a974dee2",
   "metadata": {},
   "outputs": [
    {
     "data": {
      "text/plain": [
       "array([1, 2, 3])"
      ]
     },
     "execution_count": 168,
     "metadata": {},
     "output_type": "execute_result"
    }
   ],
   "source": [
    "np.asarray([1,2,3])"
   ]
  },
  {
   "cell_type": "code",
   "execution_count": 173,
   "id": "07005a75",
   "metadata": {},
   "outputs": [
    {
     "data": {
      "text/plain": [
       "array([0., 0., 0., 0.])"
      ]
     },
     "execution_count": 173,
     "metadata": {},
     "output_type": "execute_result"
    }
   ],
   "source": [
    "np.zeros(4)"
   ]
  },
  {
   "cell_type": "code",
   "execution_count": null,
   "id": "e4d57dee",
   "metadata": {},
   "outputs": [
    {
     "data": {
      "text/plain": [
       "array([[0., 0.],\n",
       "       [0., 0.]])"
      ]
     },
     "execution_count": 174,
     "metadata": {},
     "output_type": "execute_result"
    }
   ],
   "source": [
    "np.zeros((2,2))"
   ]
  },
  {
   "cell_type": "code",
   "execution_count": 5,
   "id": "9052a11f",
   "metadata": {},
   "outputs": [
    {
     "data": {
      "text/plain": [
       "array([[1., 1., 1., 1., 1.],\n",
       "       [1., 1., 1., 1., 1.],\n",
       "       [1., 1., 1., 1., 1.],\n",
       "       [1., 1., 1., 1., 1.]])"
      ]
     },
     "execution_count": 5,
     "metadata": {},
     "output_type": "execute_result"
    }
   ],
   "source": [
    "np.ones((4,5))"
   ]
  },
  {
   "cell_type": "code",
   "execution_count": 176,
   "id": "6c42a6d8",
   "metadata": {},
   "outputs": [
    {
     "data": {
      "text/plain": [
       "array([[[1, 1, 1, 1],\n",
       "        [1, 1, 1, 1],\n",
       "        [1, 1, 1, 1]],\n",
       "\n",
       "       [[1, 1, 1, 1],\n",
       "        [1, 1, 1, 1],\n",
       "        [1, 1, 1, 1]]])"
      ]
     },
     "execution_count": 176,
     "metadata": {},
     "output_type": "execute_result"
    }
   ],
   "source": [
    "np.ones_like(x)"
   ]
  },
  {
   "cell_type": "code",
   "execution_count": null,
   "id": "17c9860b",
   "metadata": {},
   "outputs": [
    {
     "data": {
      "text/plain": [
       "array([ 1,  2,  3,  4,  5,  6,  7,  8,  9, 10, 11, 12, 13, 14, 15, 16, 17,\n",
       "       18, 19, 20])"
      ]
     },
     "metadata": {},
     "output_type": "display_data"
    },
    {
     "data": {
      "text/plain": [
       "np.int64(1)"
      ]
     },
     "metadata": {},
     "output_type": "display_data"
    },
    {
     "data": {
      "text/plain": [
       "np.int64(20)"
      ]
     },
     "metadata": {},
     "output_type": "display_data"
    },
    {
     "data": {
      "text/plain": [
       "np.int64(19)"
      ]
     },
     "metadata": {},
     "output_type": "display_data"
    },
    {
     "data": {
      "text/plain": [
       "np.int64(0)"
      ]
     },
     "metadata": {},
     "output_type": "display_data"
    },
    {
     "data": {
      "text/plain": [
       "np.float64(10.5)"
      ]
     },
     "metadata": {},
     "output_type": "display_data"
    },
    {
     "data": {
      "text/plain": [
       "np.float64(5.766281297335398)"
      ]
     },
     "metadata": {},
     "output_type": "display_data"
    },
    {
     "data": {
      "text/plain": [
       "np.int64(210)"
      ]
     },
     "metadata": {},
     "output_type": "display_data"
    },
    {
     "data": {
      "text/plain": [
       "array([  1,   3,   6,  10,  15,  21,  28,  36,  45,  55,  66,  78,  91,\n",
       "       105, 120, 136, 153, 171, 190, 210])"
      ]
     },
     "metadata": {},
     "output_type": "display_data"
    }
   ],
   "source": [
    "ndata = np.arange(1,21)\n",
    "display(ndata)\n",
    "\n",
    "display(ndata.min())\n",
    "display(ndata.max())\n",
    "display(ndata.argmax())\n",
    "display(ndata.argmin())\n",
    "display(ndata.mean())\n",
    "display(ndata.std())\n",
    "display(ndata.sum())\n",
    "display(ndata.cumsum())"
   ]
  }
 ],
 "metadata": {
  "kernelspec": {
   "display_name": "python12",
   "language": "python",
   "name": "python3"
  },
  "language_info": {
   "codemirror_mode": {
    "name": "ipython",
    "version": 3
   },
   "file_extension": ".py",
   "mimetype": "text/x-python",
   "name": "python",
   "nbconvert_exporter": "python",
   "pygments_lexer": "ipython3",
   "version": "3.12.0"
  }
 },
 "nbformat": 4,
 "nbformat_minor": 5
}
