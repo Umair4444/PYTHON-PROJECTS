{
 "cells": [
  {
   "cell_type": "markdown",
   "metadata": {},
   "source": [
    "Write a program that prints the first 20 even numbers. There are several correct approaches, but they all use a loop of some sort. Do no write twenty print statements"
   ]
  },
  {
   "cell_type": "code",
   "execution_count": 8,
   "metadata": {},
   "outputs": [
    {
     "name": "stdout",
     "output_type": "stream",
     "text": [
      "2 is even number\n",
      "4 is even number\n",
      "6 is even number\n",
      "8 is even number\n",
      "10 is even number\n",
      "12 is even number\n",
      "14 is even number\n",
      "16 is even number\n",
      "18 is even number\n",
      "20 is even number\n"
     ]
    }
   ],
   "source": [
    "for i in range(1,21):\n",
    "    if i % 2 == 0:\n",
    "        print(f\"{i} is even number\")\n",
    "\n"
   ]
  },
  {
   "cell_type": "code",
   "execution_count": 9,
   "metadata": {},
   "outputs": [
    {
     "name": "stdout",
     "output_type": "stream",
     "text": [
      "2 is an even number\n",
      "4 is an even number\n",
      "6 is an even number\n",
      "8 is an even number\n",
      "10 is an even number\n",
      "12 is an even number\n",
      "14 is an even number\n",
      "16 is an even number\n",
      "18 is an even number\n",
      "20 is an even number\n",
      "['2 is an even number', '4 is an even number', '6 is an even number', '8 is an even number', '10 is an even number', '12 is an even number', '14 is an even number', '16 is an even number', '18 is an even number', '20 is an even number']\n"
     ]
    }
   ],
   "source": [
    "even_numbers = [f\"{i} is an even number\" for i in range(1, 21) if i % 2 == 0]\n",
    "\n",
    "print(\"\\n\".join(even_numbers)) # in a string format\n",
    "print(f\"{even_numbers}\") # in a list format\n"
   ]
  },
  {
   "cell_type": "markdown",
   "metadata": {},
   "source": [
    "* Write a program which asks a user for their age and lets them know if they can or can't vote in the following three fictional countries.\n",
    "\n",
    "* Around the world, different countries have different voting ages. In the fictional countries of Peturksbouipo, Stanlau, and Mayengua, the voting ages are very different:"
   ]
  },
  {
   "cell_type": "code",
   "execution_count": 10,
   "metadata": {},
   "outputs": [
    {
     "name": "stdout",
     "output_type": "stream",
     "text": [
      "country is Peturksbouipo and minimum age is 16\n",
      "You can vote in Peturksbouipo where the voting age is 16. \n",
      "\n",
      "country is Stanlau and minimum age is 25\n",
      "You can vote in Stanlau where the voting age is 25. \n",
      "\n",
      "country is Mayengua and minimum age is 48\n",
      "You can vote in Mayengua where the voting age is 48. \n",
      "\n"
     ]
    }
   ],
   "source": [
    "# Prompt the user for their age\n",
    "age = int(input(\"How old are you? \"))\n",
    "\n",
    "# Define voting ages for the fictional countries\n",
    "voting_ages = {\n",
    "    \"Peturksbouipo\": 16,\n",
    "    \"Stanlau\": 25,\n",
    "    \"Mayengua\": 48\n",
    "}\n",
    "\n",
    "# Check and print voting eligibility\n",
    "for country, minimum_age in voting_ages.items():\n",
    "    print(f\"country is {country} and minimum age is {minimum_age}\")\n",
    "    if age >= minimum_age:\n",
    "        print(f\"You can vote in {country} where the voting age is {minimum_age}. \\n\")\n",
    "    else:\n",
    "        print(f\"You cannot vote in {country} where the voting age is {minimum_age}. \\n\")\n"
   ]
  },
  {
   "cell_type": "markdown",
   "metadata": {},
   "source": [
    "* Example Solution"
   ]
  },
  {
   "cell_type": "code",
   "execution_count": 11,
   "metadata": {},
   "outputs": [
    {
     "name": "stdout",
     "output_type": "stream",
     "text": [
      "You can vote in Peturksbouipo where the voting age is 16.\n",
      "You can vote in Stanlau where the voting age is 25.\n",
      "You can vote in Mayengua where the voting age is 48.\n"
     ]
    }
   ],
   "source": [
    "PETURKSBOUIPO_AGE : int = 16\n",
    "STANLAU_AGE : int = 25\n",
    "MAYENGUA_AGE : int = 48\n",
    "\n",
    "def main():\n",
    "    # Get the user's age\n",
    "    user_age = int(input(\"How old are you? \"))\n",
    "\n",
    "    # Check if the user can vote in Peturksbouipo\n",
    "    if user_age >= PETURKSBOUIPO_AGE:\n",
    "        print(\"You can vote in Peturksbouipo where the voting age is \" + str(PETURKSBOUIPO_AGE) + \".\")\n",
    "    else:\n",
    "        print(\"You cannot vote in Peturksbouipo where the voting age is \" + str(PETURKSBOUIPO_AGE) + \".\")\n",
    "    \n",
    "    # Check if the user can vote in Stanlau\n",
    "    if user_age >= STANLAU_AGE:\n",
    "        print(\"You can vote in Stanlau where the voting age is \" + str(STANLAU_AGE) + \".\")\n",
    "    else:\n",
    "        print(\"You cannot vote in Stanlau where the voting age is \" + str(STANLAU_AGE) + \".\")\n",
    "    \n",
    "    # Check if user can vote in Mayengua\n",
    "    if user_age >= MAYENGUA_AGE:\n",
    "        print(\"You can vote in Mayengua where the voting age is \" + str(MAYENGUA_AGE) + \".\")\n",
    "    else:\n",
    "        print(\"You cannot vote in Mayengua where the voting age is \" + str(MAYENGUA_AGE) + \".\")\n",
    "\n",
    "if __name__ == '__main__':\n",
    "    main()"
   ]
  },
  {
   "cell_type": "markdown",
   "metadata": {},
   "source": [
    "* Write a program that reads a year from the user and tells whether a given year is a leap year or not."
   ]
  },
  {
   "cell_type": "code",
   "execution_count": 13,
   "metadata": {},
   "outputs": [
    {
     "name": "stdout",
     "output_type": "stream",
     "text": [
      "2029 is not a leap year.\n"
     ]
    }
   ],
   "source": [
    "# Function to check if a year is a leap year\n",
    "def is_leap_year(year):\n",
    "    if (year % 4 == 0 and year % 100 != 0) or (year % 400 == 0):\n",
    "        return True\n",
    "    return False\n",
    "\n",
    "# Prompt user for input\n",
    "year = int(input(\"Enter a year: \"))\n",
    "\n",
    "# Check and display result\n",
    "if is_leap_year(year):\n",
    "    print(f\"{year} is a leap year.\")\n",
    "else:\n",
    "    print(f\"{year} is not a leap year.\")\n"
   ]
  },
  {
   "cell_type": "markdown",
   "metadata": {},
   "source": [
    "* Write a program which asks the user how tall they are and prints whether or not they're taller than a pre-specified minimum height.\n",
    "\n"
   ]
  },
  {
   "cell_type": "code",
   "execution_count": 14,
   "metadata": {},
   "outputs": [
    {
     "name": "stdout",
     "output_type": "stream",
     "text": [
      "You're not tall enough to ride, but maybe next year!\n"
     ]
    }
   ],
   "source": [
    "# Pre-specified minimum height\n",
    "MIN_HEIGHT = 50\n",
    "\n",
    "# Prompt the user for their height\n",
    "height = int(input(\"How tall are you? \"))\n",
    "\n",
    "# Check if they are tall enough\n",
    "if height >= MIN_HEIGHT:\n",
    "    print(\"You're tall enough to ride!\")\n",
    "else:\n",
    "    print(\"You're not tall enough to ride, but maybe next year!\")\n"
   ]
  },
  {
   "cell_type": "markdown",
   "metadata": {},
   "source": [
    "* Print 10 random numbers in the range 1 to 100.\n",
    "\n"
   ]
  },
  {
   "cell_type": "code",
   "execution_count": 37,
   "metadata": {},
   "outputs": [
    {
     "name": "stdout",
     "output_type": "stream",
     "text": [
      "63 15 68 75 54 23 30 81 85 51 "
     ]
    }
   ],
   "source": [
    "import random\n",
    "\n",
    "# Generate and print 10 random numbers in the range 1 to 100\n",
    "for _ in range(10): # _ is a throwaway variable\n",
    "    print(random.randint(1, 100), end=\" \")"
   ]
  }
 ],
 "metadata": {
  "kernelspec": {
   "display_name": "Python 3",
   "language": "python",
   "name": "python3"
  },
  "language_info": {
   "codemirror_mode": {
    "name": "ipython",
    "version": 3
   },
   "file_extension": ".py",
   "mimetype": "text/x-python",
   "name": "python",
   "nbconvert_exporter": "python",
   "pygments_lexer": "ipython3",
   "version": "3.13.2"
  }
 },
 "nbformat": 4,
 "nbformat_minor": 2
}
