{
 "cells": [
  {
   "cell_type": "markdown",
   "metadata": {},
   "source": [
    "* Write a Python program that takes two integer inputs from the user and calculates their sum. The program should perform the following tasks:\n",
    "\n"
   ]
  },
  {
   "cell_type": "code",
   "execution_count": 1,
   "metadata": {},
   "outputs": [
    {
     "name": "stdout",
     "output_type": "stream",
     "text": [
      "The sum of num1: 8 and num2: 5 is: 13 \n"
     ]
    }
   ],
   "source": [
    "input1 = int(input(\"Enter the first string: \"))\n",
    "input2 = int(input(\"Enter the second string: \"))\n",
    "\n",
    "sum = input1 + input2\n",
    "print(f\"The sum of num1: {input1} and num2: {input2} is: {sum} \",)\n"
   ]
  },
  {
   "cell_type": "markdown",
   "metadata": {},
   "source": [
    "* Write a program which asks the user what their favorite animal is, and then always responds with \"My favorite animal is also ___!\" (the blank should be filled in with the user-inputted animal, of course)."
   ]
  },
  {
   "cell_type": "code",
   "execution_count": 2,
   "metadata": {},
   "outputs": [
    {
     "name": "stdout",
     "output_type": "stream",
     "text": [
      "My favorite animal is also beef!\n"
     ]
    }
   ],
   "source": [
    "# Ask the user for their favorite animal\n",
    "favorite_animal = input(\"What's your favorite animal? \")\n",
    "\n",
    "# Respond with the same favorite animal\n",
    "print(f\"My favorite animal is also {favorite_animal}!\")\n"
   ]
  },
  {
   "cell_type": "markdown",
   "metadata": {},
   "source": [
    "Write a program which prompts the user for a temperature in Fahrenheit (this can be a number with decimal places!) and outputs the temperature converted to Celsius."
   ]
  },
  {
   "cell_type": "code",
   "execution_count": 3,
   "metadata": {},
   "outputs": [
    {
     "name": "stdout",
     "output_type": "stream",
     "text": [
      "Temperature: 100.0F = 37.77777777777778C\n"
     ]
    }
   ],
   "source": [
    "# Prompt the user for a temperature in Fahrenheit\n",
    "fahrenheit = float(input(\"Enter temperature in Fahrenheit: \"))\n",
    "\n",
    "# Convert to Celsius\n",
    "celsius = (fahrenheit - 32) * 5.0 / 9.0\n",
    "\n",
    "# Display the result\n",
    "print(f\"Temperature: {fahrenheit}F = {celsius}C\")\n"
   ]
  },
  {
   "cell_type": "markdown",
   "metadata": {},
   "source": [
    "* Write a program to solve this age-related riddle!\n",
    "\n",
    "* Anton, Beth, Chen, Drew, and Ethan are all friends. Their ages are as follows:\n",
    "\n",
    "* Anton is 21 years old.\n",
    "\n",
    "* Beth is 6 years older than Anton.\n",
    "\n",
    "* Chen is 20 years older than Beth.\n",
    "\n",
    "* Drew is as old as Chen's age plus Anton's age.\n",
    "\n",
    "* Ethan is the same age as Chen."
   ]
  },
  {
   "cell_type": "code",
   "execution_count": 4,
   "metadata": {},
   "outputs": [
    {
     "name": "stdout",
     "output_type": "stream",
     "text": [
      "Anton is 21 years old.\n",
      "Beth is 27 years old.\n",
      "Chen is 47 years old.\n",
      "Drew is 68 years old.\n",
      "Ethan is 47 years old.\n"
     ]
    }
   ],
   "source": [
    "# Given ages\n",
    "anton_age = 21\n",
    "beth_age = anton_age + 6\n",
    "chen_age = beth_age + 20\n",
    "drew_age = chen_age + anton_age\n",
    "ethan_age = chen_age\n",
    "\n",
    "# Print the results\n",
    "print(f\"Anton is {anton_age} years old.\")\n",
    "print(f\"Beth is {beth_age} years old.\")\n",
    "print(f\"Chen is {chen_age} years old.\")\n",
    "print(f\"Drew is {drew_age} years old.\")\n",
    "print(f\"Ethan is {ethan_age} years old.\")\n"
   ]
  },
  {
   "cell_type": "markdown",
   "metadata": {},
   "source": [
    "* Prompt the user to enter the lengths of each side of a triangle and then calculate and print the perimeter of the triangle (the sum of all of the side lengths).\n",
    "\n",
    "* Here's a sample run of the program (user input is in bold italics):\n",
    "\n",
    "* What is the length of side 1? 3\n",
    "\n",
    "* What is the length of side 2? 4\n",
    "\n",
    "* What is the length of side 3? 5.5\n",
    "\n",
    "* The perimeter of the triangle is 12.5"
   ]
  },
  {
   "cell_type": "code",
   "execution_count": 6,
   "metadata": {},
   "outputs": [
    {
     "name": "stdout",
     "output_type": "stream",
     "text": [
      "The perimeter of the triangle side1: 2.0 + side2: 3.0 + side3: 4.0 is 9.0\n"
     ]
    }
   ],
   "source": [
    "# Prompt the user for the lengths of each side\n",
    "side1 = float(input(\"What is the length of side 1? \"))\n",
    "side2 = float(input(\"What is the length of side 2? \"))\n",
    "side3 = float(input(\"What is the length of side 3? \"))\n",
    "\n",
    "# Calculate the perimeter\n",
    "perimeter = side1 + side2 + side3\n",
    "\n",
    "# Print the result\n",
    "print(f\"The perimeter of the triangle side1: {side1} + side2: {side2} + side3: {side3} is {perimeter}\")\n"
   ]
  },
  {
   "cell_type": "markdown",
   "metadata": {},
   "source": [
    "* Ask the user for a number and print its square (the product of the number times itself).\n",
    "\n",
    "* Here's a sample run of the program (user input is in bold italics):\n",
    "\n",
    "*  Type a number to see its square: 4\n",
    "\n",
    "* 4.0 squared is 16.0"
   ]
  },
  {
   "cell_type": "code",
   "execution_count": 11,
   "metadata": {},
   "outputs": [
    {
     "name": "stdout",
     "output_type": "stream",
     "text": [
      "5 squared is 25\n"
     ]
    }
   ],
   "source": [
    "# Ask the user for a number and validate input\n",
    "try:\n",
    "    number = int(input(\"Type a number to see its square: \"))  # Get input as an integer\n",
    "    # Calculate the square\n",
    "    square = number ** 2\n",
    "    # Print the result\n",
    "    print(f\"{number} squared is {square}\")\n",
    "except ValueError:\n",
    "    print(\"Please enter a valid integer.\")\n"
   ]
  }
 ],
 "metadata": {
  "kernelspec": {
   "display_name": "Python 3",
   "language": "python",
   "name": "python3"
  },
  "language_info": {
   "codemirror_mode": {
    "name": "ipython",
    "version": 3
   },
   "file_extension": ".py",
   "mimetype": "text/x-python",
   "name": "python",
   "nbconvert_exporter": "python",
   "pygments_lexer": "ipython3",
   "version": "3.13.2"
  }
 },
 "nbformat": 4,
 "nbformat_minor": 2
}
