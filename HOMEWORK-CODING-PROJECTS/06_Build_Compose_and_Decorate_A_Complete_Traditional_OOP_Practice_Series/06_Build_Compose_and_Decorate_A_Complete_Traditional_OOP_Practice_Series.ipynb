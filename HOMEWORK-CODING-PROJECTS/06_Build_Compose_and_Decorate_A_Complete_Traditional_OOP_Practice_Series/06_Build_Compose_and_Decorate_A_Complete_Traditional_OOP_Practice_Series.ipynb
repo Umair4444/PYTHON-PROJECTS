{
 "cells": [
  {
   "cell_type": "markdown",
   "id": "f0d6203d",
   "metadata": {},
   "source": [
    "### 1. **Using `self`**\n",
    "\n",
    "**Assignment:**  \n",
    "Create a class `Student` with attributes `name` and `marks`. Use the `self` keyword to initialize these values via a constructor. Add a method `display()` that prints student details."
   ]
  },
  {
   "cell_type": "code",
   "execution_count": 76,
   "id": "060f0950",
   "metadata": {},
   "outputs": [
    {
     "name": "stdout",
     "output_type": "stream",
     "text": [
      "Name: Umair\n",
      "Marks: 85\n"
     ]
    }
   ],
   "source": [
    "class Student:\n",
    "    def __init__(self, name, marks):\n",
    "        self.name = name\n",
    "        self.marks = marks\n",
    "\n",
    "    def display(self):\n",
    "        print(f\"Name: {self.name}\")\n",
    "        print(f\"Marks: {self.marks}\")\n",
    "\n",
    "# Example usage\n",
    "student1 = Student(\"Umair\", 85)\n",
    "student1.display()\n"
   ]
  },
  {
   "cell_type": "markdown",
   "id": "d1d8872d",
   "metadata": {},
   "source": [
    "### 2. **Using `cls`**\n",
    "\n",
    "**Assignment:**  \n",
    "Create a class `Counter` that keeps track of how many objects have been created. Use a class variable and a class method with `cls` to manage and display the count."
   ]
  },
  {
   "cell_type": "code",
   "execution_count": 77,
   "id": "7ec4fe48",
   "metadata": {},
   "outputs": [
    {
     "name": "stdout",
     "output_type": "stream",
     "text": [
      "Total objects created: 1\n",
      "Total objects created: 2\n",
      "Total objects created: 3\n"
     ]
    }
   ],
   "source": [
    "class Counter:\n",
    "    count = 0  # Class variable shared among all instances\n",
    "\n",
    "    def __init__(self):\n",
    "        Counter.count += 1  # Increment count every time an object is created\n",
    "        Counter.show_count() # every time when object is created\n",
    "\n",
    "    @classmethod\n",
    "    def show_count(cls):\n",
    "        pass\n",
    "        print(f\"Total objects created: {cls.count}\")\n",
    "\n",
    "# Example usage\n",
    "obj1 = Counter()\n",
    "obj2 = Counter()\n",
    "obj3 = Counter()\n",
    "\n",
    "# Counter.show_count() # for total objects created\n"
   ]
  },
  {
   "cell_type": "markdown",
   "id": "c7f4b7a0",
   "metadata": {},
   "source": [
    "### 3. **Public Variables and Methods**\n",
    "\n",
    "**Assignment:**  \n",
    "Create a class `Car` with a public variable `brand` and a public method `start()`. Instantiate the class and access both from outside the class."
   ]
  },
  {
   "cell_type": "code",
   "execution_count": 78,
   "id": "657ae098",
   "metadata": {},
   "outputs": [
    {
     "name": "stdout",
     "output_type": "stream",
     "text": [
      "Brand: Toyota\n",
      "Toyota car is starting...\n"
     ]
    }
   ],
   "source": [
    "class Car:\n",
    "    # Public variable\n",
    "    brand = \"Toyota\"\n",
    "\n",
    "    # Public method\n",
    "    def start(self):\n",
    "        print(f\"{self.brand} car is starting...\")\n",
    "\n",
    "# Instantiate the class\n",
    "my_car = Car()\n",
    "\n",
    "# Access public variable\n",
    "print(\"Brand:\", my_car.brand)\n",
    "\n",
    "# Call public method\n",
    "my_car.start()\n"
   ]
  },
  {
   "cell_type": "markdown",
   "id": "550583e1",
   "metadata": {},
   "source": [
    "### 4. **Class Variables and Class Methods**\n",
    "\n",
    "**Assignment:**  \n",
    "Create a class `Bank` with a class variable `bank_name`. Add a class method `change_bank_name(cls, name)` that allows changing the bank name. Show that it affects all instances."
   ]
  },
  {
   "cell_type": "code",
   "execution_count": 79,
   "id": "986ba629",
   "metadata": {},
   "outputs": [
    {
     "name": "stdout",
     "output_type": "stream",
     "text": [
      "Account Holder: Ali, Bank: Meezan Bank\n",
      "Account Holder: Umair, Bank: Meezan Bank\n",
      "Account Holder: Ali, Bank: UBL\n",
      "Account Holder: Umair, Bank: UBL\n"
     ]
    }
   ],
   "source": [
    "class Bank:\n",
    "    # Class variable\n",
    "    bank_name = \"Meezan Bank\"\n",
    "\n",
    "    def __init__(self, account_holder):\n",
    "        self.account_holder = account_holder\n",
    "\n",
    "    # Class method to change the bank name\n",
    "    @classmethod\n",
    "    def change_bank_name(cls, name):\n",
    "        cls.bank_name = name\n",
    "\n",
    "    def display(self):\n",
    "        print(f\"Account Holder: {self.account_holder}, Bank: {Bank.bank_name}\")\n",
    "\n",
    "\n",
    "# Create instances\n",
    "acc1 = Bank(\"Ali\")\n",
    "acc2 = Bank(\"Umair\")\n",
    "\n",
    "# Display initial bank name\n",
    "acc1.display()\n",
    "acc2.display()\n",
    "\n",
    "# Change the bank name using class method\n",
    "Bank.change_bank_name(\"UBL\")\n",
    "\n",
    "# Display updated bank name for all instances\n",
    "acc1.display()\n",
    "acc2.display()\n"
   ]
  },
  {
   "cell_type": "markdown",
   "id": "662238a7",
   "metadata": {},
   "source": [
    "### 5. **Static Variables and Static Methods**\n",
    "\n",
    "**Assignment:**  \n",
    "Create a class `MathUtils` with a static method `add(a, b)` that returns the sum. No class or instance variables should be used."
   ]
  },
  {
   "cell_type": "code",
   "execution_count": 80,
   "id": "1c82195e",
   "metadata": {},
   "outputs": [
    {
     "name": "stdout",
     "output_type": "stream",
     "text": [
      "sum 5\n",
      "Sum: 15\n"
     ]
    }
   ],
   "source": [
    "class MathUtils:\n",
    "    @staticmethod\n",
    "    def add(a, b):\n",
    "        return a + b\n",
    "\n",
    "# by creating object\n",
    "addition = MathUtils()\n",
    "res = addition.add(1,4)\n",
    "print(\"sum\",res)\n",
    "\n",
    "# Using the static method without creating an object\n",
    "result = MathUtils.add(10, 5)\n",
    "print(\"Sum:\", result)\n"
   ]
  },
  {
   "cell_type": "markdown",
   "id": "c06cbd97",
   "metadata": {},
   "source": [
    "### 6. **Constructors and Destructors**\n",
    "\n",
    "**Assignment:**  \n",
    "Create a class `Logger` that prints a message when an object is created (constructor) and another message when it is destroyed (destructor)."
   ]
  },
  {
   "cell_type": "code",
   "execution_count": 81,
   "id": "6e9e1ca7",
   "metadata": {},
   "outputs": [
    {
     "name": "stdout",
     "output_type": "stream",
     "text": [
      "Logger initialized. Object created.\n",
      "Logger terminated. Object destroyed.\n"
     ]
    }
   ],
   "source": [
    "class Logger:\n",
    "    def __init__(self):\n",
    "        print(\"Logger initialized. Object created.\")\n",
    "\n",
    "    def __del__(self):\n",
    "        print(\"Logger terminated. Object destroyed.\")\n",
    "\n",
    "# Usage example\n",
    "logger = Logger()\n",
    "\n",
    "# When you delete the object explicitly or the program ends,\n",
    "# the destructor is called:\n",
    "del logger\n"
   ]
  },
  {
   "cell_type": "markdown",
   "id": "9d892d0e",
   "metadata": {},
   "source": [
    "### 7. **Access Modifiers: Public, Private, and Protected**\n",
    "\n",
    "**Assignment:**  \n",
    "Create a class `Employee` with:\n",
    "\n",
    "-   a public variable `name`,\n",
    "    \n",
    "-   a protected variable `_salary`, and\n",
    "    \n",
    "-   a private variable `__ssn`.\n",
    "    \n",
    "\n",
    "Try accessing all three variables from an object of the class and document what happens."
   ]
  },
  {
   "cell_type": "code",
   "execution_count": 82,
   "id": "f970e514",
   "metadata": {},
   "outputs": [
    {
     "name": "stdout",
     "output_type": "stream",
     "text": [
      "Public: Ali\n",
      "Protected: 75000\n",
      "Private: Cannot access directly - 'Employee' object has no attribute '__ssn'\n",
      "Private via name mangling: 123-45-6789\n",
      "\n",
      "display info : \n",
      "Name: Ali\n",
      "Salary: 75000\n",
      "SSN: 123-45-6789\n"
     ]
    }
   ],
   "source": [
    "class Employee:\n",
    "    def __init__(self, name, salary, ssn):\n",
    "        self.name = name            # Public\n",
    "        self._salary = salary       # Protected (by convention)\n",
    "        self.__ssn = ssn            # Private (name mangling)\n",
    "\n",
    "    def display_info(self):\n",
    "        print(f\"Name: {self.name}\")\n",
    "        print(f\"Salary: {self._salary}\")\n",
    "        print(f\"SSN: {self.__ssn}\")  # Accessible inside the class\n",
    "\n",
    "# Create object\n",
    "emp = Employee(\"Ali\", 75000, \"123-45-6789\")\n",
    "\n",
    "# Accessing Public Variable\n",
    "print(\"Public:\", emp.name)  # ✅ Works\n",
    "\n",
    "# Accessing Protected Variable\n",
    "print(\"Protected:\", emp._salary)  # ⚠️ Works, but discouraged\n",
    "\n",
    "# Accessing Private Variable directly\n",
    "try:\n",
    "    print(\"Private:\", emp.__ssn)  # ❌ Fails\n",
    "except AttributeError as e:\n",
    "    print(\"Private: Cannot access directly -\", e)\n",
    "\n",
    "# Accessing Private Variable with name mangling\n",
    "print(\"Private via name mangling:\", emp._Employee__ssn)  # ✅ Works, but not recommended\n",
    "\n",
    "print(\"\\ndisplay info : \")\n",
    "emp.display_info()\n"
   ]
  },
  {
   "cell_type": "markdown",
   "id": "0b7d06c9",
   "metadata": {},
   "source": [
    "### 8. **The `super()` Function**\n",
    "\n",
    "**Assignment:**  \n",
    "Create a class `Person` with a constructor that sets the name. Inherit a class `Teacher` from it, add a subject field, and use `super()` to call the base class constructor."
   ]
  },
  {
   "cell_type": "code",
   "execution_count": 83,
   "id": "6bccef4c",
   "metadata": {},
   "outputs": [
    {
     "name": "stdout",
     "output_type": "stream",
     "text": [
      "Person initialized with name: Mrs. Fatima\n",
      "Teacher initialized with subject: Mathematics\n",
      "Person initialized with name: Mr.Ali\n",
      "Teacher initialized with subject: Computer Science\n"
     ]
    }
   ],
   "source": [
    "class Person:\n",
    "    def __init__(self, name):\n",
    "        self.name = name\n",
    "        print(f\"Person initialized with name: {self.name}\")\n",
    "\n",
    "class Teacher(Person):\n",
    "    def __init__(self, name, subject):\n",
    "        super().__init__(name)  # Call the constructor of Person\n",
    "        self.subject = subject\n",
    "        print(f\"Teacher initialized with subject: {self.subject}\")\n",
    "\n",
    "# Create a Teacher object\n",
    "t1 = Teacher(\"Mrs. Fatima\", \"Mathematics\")\n",
    "t2 = Teacher(\"Mr.Ali\", \"Computer Science\" )"
   ]
  },
  {
   "cell_type": "markdown",
   "id": "910f50e7",
   "metadata": {},
   "source": [
    "### 9. **Abstract Classes and Methods**\n",
    "\n",
    "**Assignment:**  \n",
    "Use the `abc` module to create an abstract class `Shape` with an abstract method `area()`. Inherit a class `Rectangle` that implements `area()`."
   ]
  },
  {
   "cell_type": "code",
   "execution_count": 84,
   "id": "c6abd46e",
   "metadata": {},
   "outputs": [
    {
     "name": "stdout",
     "output_type": "stream",
     "text": [
      "Area of rectangle: 15\n"
     ]
    }
   ],
   "source": [
    "from abc import ABC, abstractmethod\n",
    "\n",
    "# Abstract Class\n",
    "class Shape(ABC):\n",
    "\n",
    "    @abstractmethod\n",
    "    def area(self):\n",
    "        pass\n",
    "\n",
    "# Concrete Class inheriting from Shape\n",
    "class Rectangle(Shape):\n",
    "    def __init__(self, width, height):\n",
    "        self.width = width\n",
    "        self.height = height\n",
    "\n",
    "    def area(self):\n",
    "        return self.width * self.height\n",
    "\n",
    "# Usage\n",
    "rect = Rectangle(5, 3)\n",
    "print(\"Area of rectangle:\", rect.area())\n"
   ]
  },
  {
   "cell_type": "markdown",
   "id": "74c99659",
   "metadata": {},
   "source": [
    "### 10. **Instance Methods**\n",
    "\n",
    "**Assignment:**  \n",
    "Create a class `Dog` with instance variables `name` and `breed`. Add an instance method `bark()` that prints a message including the dog's name.\n"
   ]
  },
  {
   "cell_type": "code",
   "execution_count": 85,
   "id": "18919bce",
   "metadata": {},
   "outputs": [
    {
     "name": "stdout",
     "output_type": "stream",
     "text": [
      "Buddy says: Woof! Woof!\n"
     ]
    }
   ],
   "source": [
    "class Dog:\n",
    "    def __init__(self, name, breed):\n",
    "        self.name = name\n",
    "        self.breed = breed\n",
    "\n",
    "    def bark(self):\n",
    "        print(f\"{self.name} says: Woof! Woof!\")\n",
    "\n",
    "# Creating an instance of Dog\n",
    "my_dog = Dog(\"Buddy\", \"Golden Retriever\")\n",
    "\n",
    "# Calling the instance method\n",
    "my_dog.bark()\n"
   ]
  },
  {
   "cell_type": "markdown",
   "id": "721652dd",
   "metadata": {},
   "source": [
    "### 11. **Class Methods**\n",
    "\n",
    "**Assignment:**  \n",
    "Create a class `Book` with a class variable `total_books`. Add a class method `increment_book_count()` to increase the count when a new book is added."
   ]
  },
  {
   "cell_type": "code",
   "execution_count": 86,
   "id": "178ff7a2",
   "metadata": {},
   "outputs": [
    {
     "name": "stdout",
     "output_type": "stream",
     "text": [
      "Total books added: 3\n"
     ]
    }
   ],
   "source": [
    "class Book:\n",
    "    total_books = 0  # Class variable\n",
    "\n",
    "    def __init__(self, title):\n",
    "        self.title = title\n",
    "        Book.increment_book_count()\n",
    "\n",
    "    @classmethod\n",
    "    def increment_book_count(cls):\n",
    "        cls.total_books += 1\n",
    "\n",
    "    @classmethod\n",
    "    def get_total_books(cls):\n",
    "        return cls.total_books\n",
    "\n",
    "# Creating book instances\n",
    "book1 = Book(\"The Alchemist\")\n",
    "book2 = Book(\"1984\")\n",
    "book3 = Book(\"To Kill a Mockingbird\")\n",
    "\n",
    "# Accessing class method\n",
    "print(\"Total books added:\", Book.get_total_books())\n"
   ]
  },
  {
   "cell_type": "markdown",
   "id": "9002f7ba",
   "metadata": {},
   "source": [
    "\n",
    "### 12. **Static Methods**\n",
    "\n",
    "**Assignment:**  \n",
    "Create a class `TemperatureConverter` with a static method `celsius_to_fahrenheit(c)` that returns the Fahrenheit value.\n"
   ]
  },
  {
   "cell_type": "code",
   "execution_count": 87,
   "id": "5ca8a0a4",
   "metadata": {},
   "outputs": [
    {
     "name": "stdout",
     "output_type": "stream",
     "text": [
      "25°C is equal to 77.0°F\n"
     ]
    }
   ],
   "source": [
    "class TemperatureConverter():\n",
    "    \n",
    "    @staticmethod\n",
    "    def celsius_to_fahrenheit(c):\n",
    "        return (c * 9/5) + 32\n",
    "\n",
    "\n",
    "temp = TemperatureConverter()\n",
    "\n",
    "temp_c = 25\n",
    "temp_f = temp.celsius_to_fahrenheit(temp_c)\n",
    "\n",
    "print(f\"{temp_c}°C is equal to {temp_f}°F\")\n"
   ]
  },
  {
   "cell_type": "markdown",
   "id": "ab2c269d",
   "metadata": {},
   "source": [
    "### 13. **Composition**\n",
    "\n",
    "**Assignment:**  \n",
    "Create a class `Engine` and a class `Car`. Use composition by passing an `Engine` object to the `Car` class during initialization. Access a method of the `Engine` class via the `Car` class."
   ]
  },
  {
   "cell_type": "code",
   "execution_count": 88,
   "id": "12252f2b",
   "metadata": {},
   "outputs": [
    {
     "name": "stdout",
     "output_type": "stream",
     "text": [
      "Toyota car says: Engine with 150 HP is starting...\n"
     ]
    }
   ],
   "source": [
    "# Engine class\n",
    "class Engine:\n",
    "    def __init__(self, horsepower):\n",
    "        self.horsepower = horsepower\n",
    "\n",
    "    def start(self):\n",
    "        return f\"Engine with {self.horsepower} HP is starting...\"\n",
    "\n",
    "# Car class using composition (creates its own Engine)\n",
    "class Car:\n",
    "    def __init__(self, brand, horsepower):\n",
    "        self.brand = brand\n",
    "        self.engine = Engine(horsepower)  # Car creates its own Engine\n",
    "\n",
    "    def start_car(self):\n",
    "        return f\"{self.brand} car says: {self.engine.start()}\"\n",
    "\n",
    "# Create a Car object (Engine created inside Car)\n",
    "car1 = Car(\"Toyota\", 150)\n",
    "\n",
    "# Call method to demonstrate composition\n",
    "print(car1.start_car())\n"
   ]
  },
  {
   "cell_type": "markdown",
   "id": "60c50f92",
   "metadata": {},
   "source": [
    "### 14. **Aggregation**\n",
    "\n",
    "**Assignment:**  \n",
    "Create a class `Department` and a class `Employee`. Use aggregation by having a `Department` object store a reference to an `Employee` object that exists independently of it."
   ]
  },
  {
   "cell_type": "code",
   "execution_count": null,
   "id": "574f14e2",
   "metadata": {},
   "outputs": [
    {
     "name": "stdout",
     "output_type": "stream",
     "text": [
      "Department: HR\n",
      "Employee: Ali, ID: 101\n"
     ]
    }
   ],
   "source": [
    "# Employee class\n",
    "class Employee:\n",
    "    def __init__(self, name, emp_id):\n",
    "        self.name = name\n",
    "        self.emp_id = emp_id\n",
    "\n",
    "    def get_details(self):\n",
    "        return f\"Employee: {self.name}, ID: {self.emp_id}\"\n",
    "\n",
    "# Department class using Aggregation\n",
    "class Department:\n",
    "    def __init__(self, dept_name, employee: Employee):\n",
    "        self.dept_name = dept_name\n",
    "        self.employee = employee  # Aggregation: uses existing Employee instance\n",
    "\n",
    "    def show_info(self):\n",
    "        return f\"Department: {self.dept_name}\\n{self.employee.get_details()}\"\n",
    "\n",
    "# Create an Employee object independently\n",
    "emp1 = Employee(\"Ali\", 101)\n",
    "\n",
    "# Pass it into the Department\n",
    "dept1 = Department(\"HR\", emp1)\n",
    "\n",
    "# Show details\n",
    "print(dept1.show_info())\n"
   ]
  },
  {
   "cell_type": "markdown",
   "id": "c393c954",
   "metadata": {},
   "source": [
    "### 15. **Method Resolution Order (MRO) and Diamond Inheritance**\n",
    "\n",
    "**Assignment:**  \n",
    "Create four classes:\n",
    "\n",
    "-   `A` with a method `show()`,\n",
    "    \n",
    "-   `B` and `C` that inherit from `A` and override `show()`,\n",
    "    \n",
    "-   `D` that inherits from both `B` and `C`.\n",
    "    \n",
    "\n",
    "Create an object of `D` and call `show()` to observe MRO."
   ]
  },
  {
   "cell_type": "code",
   "execution_count": 103,
   "id": "5de3cf12",
   "metadata": {},
   "outputs": [
    {
     "name": "stdout",
     "output_type": "stream",
     "text": [
      "Method from Class B\n",
      "[<class '__main__.D'>, <class '__main__.B'>, <class '__main__.C'>, <class '__main__.A'>, <class 'object'>]\n"
     ]
    }
   ],
   "source": [
    "class A:\n",
    "    def show(self):\n",
    "        print(\"Method from Class A\")\n",
    "\n",
    "class B(A):\n",
    "    def show(self):\n",
    "        print(\"Method from Class B\")\n",
    "\n",
    "class C(A):\n",
    "    def show(self):\n",
    "        print(\"Method from Class C\")\n",
    "\n",
    "class D(B, C):  # Inherits from both B and C\n",
    "    # def show(self):\n",
    "    #     print(\"Method from Class D\")\n",
    "    pass\n",
    "\n",
    "# Create an object of class D\n",
    "d = D()\n",
    "d.show()\n",
    "\n",
    "# Show the Method Resolution Order\n",
    "print(D.mro())  # Or: help(D)\n"
   ]
  },
  {
   "cell_type": "markdown",
   "id": "9ca64a95",
   "metadata": {},
   "source": [
    "### 16. **Function Decorators**\n",
    "\n",
    "**Assignment:**  \n",
    "Write a decorator function `log_function_call` that prints \"Function is being called\" before a function executes. Apply it to a function `say_hello()`.\n"
   ]
  },
  {
   "cell_type": "code",
   "execution_count": 119,
   "id": "89fbe7e1",
   "metadata": {},
   "outputs": [
    {
     "name": "stdout",
     "output_type": "stream",
     "text": [
      "Function is being called\n",
      "Hello, world! from Umair\n"
     ]
    }
   ],
   "source": [
    "# Decorator function\n",
    "def log_function_call(func):\n",
    "    def wrapper():\n",
    "        print(\"Function is being called\")\n",
    "        return func('Umair')\n",
    "    return wrapper\n",
    "\n",
    "# Apply the decorator using @\n",
    "@log_function_call\n",
    "def say_hello(name):\n",
    "    print(f\"Hello, world! from {name}\")\n",
    "\n",
    "# Call the decorated function\n",
    "say_hello()\n"
   ]
  },
  {
   "cell_type": "markdown",
   "id": "ac9f0efd",
   "metadata": {},
   "source": [
    "### 17. **Class Decorators**\n",
    "\n",
    "**Assignment:**  \n",
    "Create a class decorator `add_greeting` that modifies a class to add a `greet()` method returning \"Hello from Decorator!\". Apply it to a class `Person`."
   ]
  },
  {
   "cell_type": "markdown",
   "id": "1358f905",
   "metadata": {},
   "source": [
    "          +----------------------------+\n",
    "          |       Person class         |\n",
    "          +----------------------------+\n",
    "                      |\n",
    "        [passed to class decorator]\n",
    "                      ↓\n",
    "          +----------------------------+\n",
    "          |      add_greeting(cls)     |\n",
    "          |                            |\n",
    "          |  self.cls = cls  ←────────┐|\n",
    "          |  cls.greet = greet        |\n",
    "          +----------------------------+\n",
    "                      ↓\n",
    "     Modified class with a greet() method\n",
    "\n",
    "self.cls = cls means:\n",
    "\n",
    "“Hey, decorator, remember which class you're modifying so you can work with it later.”\n",
    "\n",
    "Without it, the decorator wouldn't know what class it’s supposed to modify or return instances of."
   ]
  },
  {
   "cell_type": "code",
   "execution_count": null,
   "id": "7e3aaa90",
   "metadata": {},
   "outputs": [
    {
     "name": "stdout",
     "output_type": "stream",
     "text": [
      "init is happening\n",
      "call is happening\n",
      "call is happening\n",
      "Alice\n",
      "Ali\n",
      "Hello from Decorator!\n",
      "Hello from Decorator!\n",
      "init is happening\n"
     ]
    }
   ],
   "source": [
    "# Class decorator\n",
    "class add_greeting:\n",
    "    def __init__(self, cls):\n",
    "        print(\"init is happening\")\n",
    "        self.cls = cls\n",
    "\n",
    "        # Add greet method to the class\n",
    "        def greet(self):\n",
    "            return \"Hello from Decorator!\"\n",
    "        cls.greet = greet\n",
    "\n",
    "    def __call__(self, *args, **kwargs):\n",
    "        # Create and return an instance of the class\n",
    "        print(\"call is happening\")\n",
    "        return self.cls(*args, **kwargs)\n",
    "\n",
    "# Apply the decorator\n",
    "@add_greeting\n",
    "class Person:\n",
    "    def __init__(self, name):\n",
    "        self.name = name\n",
    "\n",
    "# Test\n",
    "p = Person(\"Alice\")\n",
    "p2 = Person(\"Ali\")\n",
    "print(p.name)      # Output: Alice\n",
    "print(p2.name)      # Output: Alice\n",
    "print(p.greet())   # Output: Hello from Decorator!\n",
    "print(p2.greet())   # Output: Hello from Decorator!\n",
    "\n",
    "# Person = add_greeting(Person) # calling init / contructor\n",
    "\n"
   ]
  },
  {
   "cell_type": "markdown",
   "id": "9a7cc00e",
   "metadata": {},
   "source": [
    "### 18. **Property Decorators: `@property`, `@setter`, and `@deleter`**\n",
    "\n",
    "**Assignment:**  \n",
    "Create a class `Product` with a private attribute `_price`. Use `@property` to get the price, `@price.setter` to update it, and `@price.deleter` to delete it."
   ]
  },
  {
   "cell_type": "code",
   "execution_count": 93,
   "id": "4b22801d",
   "metadata": {},
   "outputs": [
    {
     "name": "stdout",
     "output_type": "stream",
     "text": [
      "Getting the price...\n",
      "100\n",
      "Setting the price...\n",
      "Getting the price...\n",
      "150\n",
      "Deleting the price...\n"
     ]
    }
   ],
   "source": [
    "class Product:\n",
    "    def __init__(self, price):\n",
    "        self._price = price  # private attribute\n",
    "\n",
    "    # Getter method\n",
    "    @property\n",
    "    def price(self):\n",
    "        print(\"Getting the price...\")\n",
    "        return self._price\n",
    "\n",
    "    # Setter method\n",
    "    @price.setter\n",
    "    def price(self, value):\n",
    "        if value < 0:\n",
    "            raise ValueError(\"Price cannot be negative.\")\n",
    "        print(\"Setting the price...\")\n",
    "        self._price = value\n",
    "\n",
    "    # Deleter method\n",
    "    @price.deleter\n",
    "    def price(self):\n",
    "        print(\"Deleting the price...\")\n",
    "        del self._price\n",
    "\n",
    "\n",
    "# Create an instance\n",
    "item = Product(100)\n",
    "\n",
    "# Accessing price\n",
    "print(item.price)  # Getting the price... → 100\n",
    "\n",
    "# Setting new price\n",
    "item.price = 150   # Setting the price...\n",
    "\n",
    "# Getting new price\n",
    "print(item.price)  # Getting the price... → 150\n",
    "\n",
    "# Deleting the price\n",
    "del item.price     # Deleting the price...\n"
   ]
  },
  {
   "cell_type": "markdown",
   "id": "33432916",
   "metadata": {},
   "source": [
    "### 19. **`callable()` and `__call__()`**\n",
    "\n",
    "**Assignment:**  \n",
    "Create a class `Multiplier` with an `__init__()` to set a factor. Define a `__call__()` method that multiplies an input by the factor. Test it with `callable()` and by calling the object like a function."
   ]
  },
  {
   "cell_type": "code",
   "execution_count": 94,
   "id": "7a01c112",
   "metadata": {},
   "outputs": [
    {
     "name": "stdout",
     "output_type": "stream",
     "text": [
      "True\n",
      "30\n"
     ]
    }
   ],
   "source": [
    "class Multiplier:\n",
    "    def __init__(self, factor):\n",
    "        self.factor = factor\n",
    "\n",
    "    def __call__(self, value):\n",
    "        return value * self.factor\n",
    "\n",
    "\n",
    "# Create an instance of Multiplier with a factor of 3\n",
    "triple = Multiplier(3)\n",
    "\n",
    "# Check if the object is callable\n",
    "print(callable(triple))  # Output: True\n",
    "\n",
    "# Use the object like a function\n",
    "result = triple(10)\n",
    "print(result)  # Output: 30\n"
   ]
  },
  {
   "cell_type": "markdown",
   "id": "59443c02",
   "metadata": {},
   "source": [
    "### 20. **Creating a Custom Exception**\n",
    "\n",
    "**Assignment:**  \n",
    "Create a custom exception `InvalidAgeError`. Write a function `check_age(age)` that raises this exception if `age < 18`. Handle it with `try...except`."
   ]
  },
  {
   "cell_type": "code",
   "execution_count": 8,
   "id": "da8522ca",
   "metadata": {},
   "outputs": [
    {
     "name": "stdout",
     "output_type": "stream",
     "text": [
      "InvalidAgeError: Age must be 18 or older. You entered 3.\n"
     ]
    }
   ],
   "source": [
    "# Custom exception\n",
    "class InvalidAgeError(Exception):\n",
    "    \"\"\"Exception raised for invalid age (age < 18).\"\"\"\n",
    "    def __init__(self, age, message=\"Age must be 18 or older.\"):\n",
    "        self.age = age\n",
    "        self.message = message\n",
    "        super().__init__(self.message)\n",
    "\n",
    "# Function to check age\n",
    "def check_age(age):\n",
    "    if age < 18:\n",
    "        raise InvalidAgeError(age)  # Raise custom exception if age < 18\n",
    "    return f\"Age {age} is valid.\"\n",
    "\n",
    "# Handling the exception with try...except\n",
    "try:\n",
    "    age_input = int(input(\"Enter your age: \"))\n",
    "    print(check_age(age_input))\n",
    "except InvalidAgeError as e:\n",
    "    print(f\"InvalidAgeError: {e.message} You entered {e.age}.\")\n",
    "except ValueError:\n",
    "    print(\"Please enter a valid number for age.\")"
   ]
  },
  {
   "cell_type": "code",
   "execution_count": null,
   "id": "db7f3d30",
   "metadata": {},
   "outputs": [
    {
     "name": "stdout",
     "output_type": "stream",
     "text": [
      "InvalidAgeError: Age must be 18 or older. You entered 3.\n"
     ]
    }
   ],
   "source": [
    "# Custom exception\n",
    "class InvalidAgeError(Exception):\n",
    "    \"\"\"Exception raised for invalid age (age < 18).\"\"\"\n",
    "    def __init__(self, age, message=\"Age must be 18 or older.\"):\n",
    "        self.age = age\n",
    "        self.message = message\n",
    "        super().__init__(self.message)\n",
    "\n",
    "class Person():\n",
    "    def __init__(self,name,age):\n",
    "        self.name = name\n",
    "        self.age = age\n",
    "\n",
    "    def check_age(self):\n",
    "        if self.age < 18:\n",
    "             raise InvalidAgeError(self.age)  # Raise custom exception if age < 18\n",
    "        return f\"Age {self.age} is valid.\"\n",
    "    \n",
    "    def display(self):\n",
    "        return (f\"Person name: {self.name}, Age: {self.age}\")\n",
    "\n",
    "try:\n",
    "    age_input = int(input(\"Enter your age: \"))\n",
    "    person1 = Person('Ali',age_input)\n",
    "    print(person1.check_age())\n",
    "    print(person1.display())\n",
    "\n",
    "except InvalidAgeError as e:\n",
    "    print(f\"InvalidAgeError: {e.message} You entered {e.age}.\")\n",
    "    \n",
    "except ValueError:\n",
    "    print(\"Please enter a valid number for age.\")\n"
   ]
  },
  {
   "cell_type": "markdown",
   "id": "0cb6c3b8",
   "metadata": {},
   "source": [
    "### 21. **Make a Custom Class Iterable**\n",
    "\n",
    "**Assignment:**  \n",
    "Create a class `Countdown` that takes a start number. Implement `__iter__()` and `__next__()` to make the object iterable in a for-loop, counting down to 0."
   ]
  },
  {
   "cell_type": "code",
   "execution_count": 6,
   "id": "1fc0fd88",
   "metadata": {},
   "outputs": [
    {
     "name": "stdout",
     "output_type": "stream",
     "text": [
      "10\n",
      "9\n",
      "8\n",
      "7\n",
      "6\n",
      "5\n",
      "4\n",
      "3\n",
      "2\n",
      "1\n"
     ]
    }
   ],
   "source": [
    "class Countdown:\n",
    "    def __init__(self, start):\n",
    "        \"\"\"Initialize with a start number.\"\"\"\n",
    "        self.current = start\n",
    "\n",
    "    def __iter__(self):\n",
    "        \"\"\"Return the iterator object itself.\"\"\"\n",
    "        return self\n",
    "\n",
    "    def __next__(self):\n",
    "        \"\"\"Return the next number in the countdown, raise StopIteration when done.\"\"\"\n",
    "        if self.current <= 0:\n",
    "            raise StopIteration  # Stop when countdown reaches 0\n",
    "        else:\n",
    "            self.current -= 1\n",
    "            return self.current + 1  # Return the current value before decrementing\n",
    "\n",
    "# Using the Countdown class in a for-loop\n",
    "countdown = Countdown(10)\n",
    "for number in countdown:\n",
    "    print(number)\n"
   ]
  }
 ],
 "metadata": {
  "kernelspec": {
   "display_name": "python12",
   "language": "python",
   "name": "python3"
  },
  "language_info": {
   "codemirror_mode": {
    "name": "ipython",
    "version": 3
   },
   "file_extension": ".py",
   "mimetype": "text/x-python",
   "name": "python",
   "nbconvert_exporter": "python",
   "pygments_lexer": "ipython3",
   "version": "3.12.0"
  }
 },
 "nbformat": 4,
 "nbformat_minor": 5
}
