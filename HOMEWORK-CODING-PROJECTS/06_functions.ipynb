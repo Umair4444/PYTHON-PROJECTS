{
 "cells": [
  {
   "cell_type": "markdown",
   "metadata": {},
   "source": [
    "* Write a function that takes two numbers and finds the average between the two.\n",
    "\n"
   ]
  },
  {
   "cell_type": "code",
   "execution_count": 1,
   "metadata": {},
   "outputs": [
    {
     "name": "stdout",
     "output_type": "stream",
     "text": [
      "The average of 2.0 and 4.0 is 3.0\n"
     ]
    }
   ],
   "source": [
    "def find_average(num1, num2):\n",
    "    return (num1 + num2) / 2  # Calculate the average\n",
    "\n",
    "# Example usage\n",
    "a = float(input(\"Enter first number: \"))\n",
    "b = float(input(\"Enter second number: \"))\n",
    "\n",
    "average = find_average(a, b)\n",
    "print(f\"The average of {a} and {b} is {average}\")\n"
   ]
  },
  {
   "cell_type": "markdown",
   "metadata": {},
   "source": [
    "* Fill out the chaotic_counting() function, which prints the numbers from 1 to 10, but with a catch. We've written a done() function which returns True with likelihood DONE_LIKELIHOOD -- at each number, before printing the number, you should call done() and check if it returns True or not. If done() returns True, we're done counting, and you should use a return statement to end the chaotic_counting() function execution and resume execution of main(), which will print \"I'm done.\". We've written main() for you -- check it out! Notice that we'll only print \"I'm done\" from main() once chaotic_counting() is done with its execution."
   ]
  },
  {
   "cell_type": "code",
   "execution_count": 48,
   "metadata": {},
   "outputs": [
    {
     "name": "stdout",
     "output_type": "stream",
     "text": [
      "I'm going to count until 10 or until I feel like stopping, whichever comes first.\n",
      "1 2 \n",
      "I'm done.\n"
     ]
    }
   ],
   "source": [
    "import random\n",
    "\n",
    "DONE_LIKELIHOOD = 0.3  # 30% chance of stopping at each number\n",
    "\n",
    "def done():\n",
    "    \"\"\"Returns True with a probability of DONE_LIKELIHOOD.\"\"\"\n",
    "    check = random.random() \n",
    "    # print(f\"check value , {check}\")  # Print the random number for debugging\n",
    "    # print(f\"Checking if done with {check} < {DONE_LIKELIHOOD}\")  # Debugging output\n",
    "    # print(f\"Done: {check < DONE_LIKELIHOOD}\")  # Print whether we are done for debugging\n",
    "    return check < DONE_LIKELIHOOD\n",
    "\n",
    "def chaotic_counting():\n",
    "    \"\"\"Prints numbers from 1 to 10 but may stop early based on done().\"\"\"\n",
    "    for i in range(1, 11):  # Loop from 1 to 10\n",
    "        if done():  # Check if we should stop\n",
    "            return  # Exit the function immediately\n",
    "        print(i, end=\" \")  # Print the current number\n",
    "\n",
    "def main():\n",
    "    print(\"I'm going to count until 10 or until I feel like stopping, whichever comes first.\")\n",
    "    chaotic_counting()\n",
    "    print(\"\\nI'm done.\")  # Print after chaotic_counting() finishes\n",
    "\n",
    "# Run the program\n",
    "main()\n"
   ]
  },
  {
   "cell_type": "markdown",
   "metadata": {},
   "source": [
    "* Fill out the function count_even(lst) which \n",
    "\n",
    "* first populates a list by prompting the user for integers until they press enter (please use the prompt \"Enter an integer or press enter to stop: \"), and then prints the number of even numbers in the list. "
   ]
  },
  {
   "cell_type": "code",
   "execution_count": 52,
   "metadata": {},
   "outputs": [
    {
     "name": "stdout",
     "output_type": "stream",
     "text": [
      "Current list: [2, 34]\n",
      "Number of even numbers: 2\n"
     ]
    }
   ],
   "source": [
    "def count_even():\n",
    "    lst = []  # Initialize an empty list\n",
    "    \n",
    "    # Prompt the user for integers until they press enter\n",
    "    while True:\n",
    "        user_input = input(\"Enter an integer or press enter to stop: \")\n",
    "        if user_input == \"\":  # Stop if the input is empty\n",
    "            break\n",
    "        try:\n",
    "            num = int(user_input)  # Convert input to integer\n",
    "            lst.append(num)  # Add the number to the list\n",
    "        except ValueError:\n",
    "            print(\"Invalid input. Please enter an integer.\")\n",
    "\n",
    "    print(f\"Current list: {lst}\")  # Print the current state of the list\n",
    "    # Count even numbers in the list\n",
    "    even_count = sum(1 for num in lst if num % 2 == 0)\n",
    "    \n",
    "    # Print the count of even numbers\n",
    "    print(f\"Number of even numbers: {even_count}\")\n",
    "\n",
    "# Run the function\n",
    "count_even()\n"
   ]
  },
  {
   "cell_type": "markdown",
   "metadata": {},
   "source": [
    "* Fill out the double(num) function to return the result of multiplying num by 2. We've written a main() function for you which asks the user for a number, calls your code for double(num) , and prints the result."
   ]
  },
  {
   "cell_type": "code",
   "execution_count": 54,
   "metadata": {},
   "outputs": [
    {
     "name": "stdout",
     "output_type": "stream",
     "text": [
      "Double that is 4690\n"
     ]
    }
   ],
   "source": [
    "def double(num):\n",
    "    return num * 2  # Multiply num by 2 and return the result\n",
    "\n",
    "def main():\n",
    "    num = int(input(\"Enter a number: \"))  # Ask the user for input\n",
    "    result = double(num)  # Call the double function\n",
    "    print(f\"Double that is {result}\")  # Print the doubled value\n",
    "\n",
    "# Run the program\n",
    "main()\n"
   ]
  },
  {
   "cell_type": "markdown",
   "metadata": {},
   "source": [
    "* Fill out the get_name() function to return your name as a string! We've written a main() function for you which calls your function to retrieve your name and then prints it in a greeting."
   ]
  },
  {
   "cell_type": "code",
   "execution_count": 57,
   "metadata": {},
   "outputs": [
    {
     "name": "stdout",
     "output_type": "stream",
     "text": [
      "Howdy sam! 🤠\n"
     ]
    }
   ],
   "source": [
    "user_name = input(\"Enter your name: \")  # Ask for the user's name\n",
    "\n",
    "def get_name(name):\n",
    "    return name  # Return the name that user entered\n",
    "\n",
    "def main():\n",
    "    name = get_name(user_name)  # Call the function to get the name\n",
    "    print(f\"Howdy {name}! 🤠\")  # Print the greeting with the name\n",
    "\n",
    "# Run the program\n",
    "main()\n"
   ]
  },
  {
   "cell_type": "markdown",
   "metadata": {},
   "source": [
    "* Print Even and odd nnumbers\n",
    "* 10 even 11 odd 12 even 13 odd 14 even 15 odd 16 even 17 odd 18 even 19 odd"
   ]
  },
  {
   "cell_type": "code",
   "execution_count": 61,
   "metadata": {},
   "outputs": [
    {
     "name": "stdout",
     "output_type": "stream",
     "text": [
      "10 even 11 odd 12 even 13 odd 14 even 15 odd 16 even 17 odd 18 even 19 odd "
     ]
    }
   ],
   "source": [
    "def even_odd_pattern(start, end):\n",
    "    for num in range(start, end + 1): #end + 1 to include the end number\n",
    "        if num % 2 == 0:\n",
    "            print(f\"{num} even\", end=\" \")\n",
    "        else:\n",
    "            print(f\"{num} odd\", end=\" \")\n",
    "\n",
    "# Call the function for the range 10 to 19\n",
    "even_odd_pattern(10, 19)\n"
   ]
  },
  {
   "cell_type": "markdown",
   "metadata": {},
   "source": [
    "* Write the helper function print_divisors(num), which takes in a number and prints all of its divisors (all the numbers from 1 to num inclusive that num can be cleanly divided by (there is no remainder to the division). Don't forget to call your function in main()!"
   ]
  },
  {
   "cell_type": "code",
   "execution_count": 5,
   "metadata": {},
   "outputs": [
    {
     "name": "stdout",
     "output_type": "stream",
     "text": [
      "Here are the divisors of 14 is/are : 1 2 7 14 "
     ]
    }
   ],
   "source": [
    "def print_divisors(num):\n",
    "    print(f\"Here are the divisors of {num} is/are : \", end=\"\")\n",
    "    for i in range(1, num + 1):  # Loop from 1 to num\n",
    "        if num % i == 0:  # Check if i is a divisor of num\n",
    "            print(i, end=\" \")  # Print the divisor\n",
    "\n",
    "def main():\n",
    "    num = int(input(\"Enter a number: \"))  # Ask the user for input\n",
    "    print_divisors(num)  # Call the helper function\n",
    "\n",
    "# Run the program\n",
    "main()\n"
   ]
  },
  {
   "cell_type": "markdown",
   "metadata": {},
   "source": [
    "* Fill out print_multiple(message, repeats), which takes as parameters a string message to print, and an integer repeats number of times to print message. We've written the main() function for you, which prompts the user for a message and a number of repeats."
   ]
  },
  {
   "cell_type": "code",
   "execution_count": 6,
   "metadata": {},
   "outputs": [
    {
     "name": "stdout",
     "output_type": "stream",
     "text": [
      "hi\n",
      "hi\n",
      "hi\n",
      "hi\n",
      "hi\n",
      "hi\n",
      "hi\n",
      "hi\n",
      "hi\n"
     ]
    }
   ],
   "source": [
    "def print_multiple(message, repeats):\n",
    "    for _ in range(repeats):\n",
    "        print(message)\n",
    "\n",
    "def main():\n",
    "    message = input(\"Please type a message: \")\n",
    "    repeats = int(input(\"Enter a number of times to repeat your message: \"))\n",
    "    print_multiple(message, repeats)\n",
    "\n",
    "if __name__ == \"__main__\":\n",
    "    main()\n"
   ]
  },
  {
   "cell_type": "markdown",
   "metadata": {},
   "source": [
    "* Implement the helper function make_sentence(word, part_of_speech) which will take a string word and an integer part_of_speech as parameters and, depending on the part of speech, place the word into one of three sentence templates (or one from your imagination!):\n",
    "\n",
    "* If part_of_speech is 0, we will assume the word is a noun and use the template: \"I am excited to add this ____ to my vast collection of them!\"\n",
    "\n",
    "* If part_of_speech is 1, we will assume the word is a verb use the template: \"It's so nice outside today it makes me want to ____!\"\n",
    "\n",
    "* If part_of_speech is 2, we will assume the word is an adjective and use the template: \"Looking out my window, the sky is big and ____!\" make_sentence(word, part_of_speech) should not return anything, just print the correct sentence with the word filled in the blank."
   ]
  },
  {
   "cell_type": "code",
   "execution_count": 8,
   "metadata": {},
   "outputs": [
    {
     "name": "stdout",
     "output_type": "stream",
     "text": [
      "Looking out my window, the sky is big and short!\n"
     ]
    }
   ],
   "source": [
    "def make_sentence(word, part_of_speech):\n",
    "    if part_of_speech == 0:\n",
    "        print(f\"I am excited to add this {word} to my vast collection of them!\")\n",
    "    elif part_of_speech == 1:\n",
    "        print(f\"It's so nice outside today it makes me want to {word}!\")\n",
    "    elif part_of_speech == 2:\n",
    "        print(f\"Looking out my window, the sky is big and {word}!\")\n",
    "\n",
    "def main():\n",
    "    word = input(\"Please type a noun, verb, or adjective: \")\n",
    "    part_of_speech = int(input(\"Is this a noun, verb, or adjective? Type 0 for noun, 1 for verb, 2 for adjective: \"))\n",
    "    make_sentence(word, part_of_speech)\n",
    "\n",
    "if __name__ == \"__main__\":\n",
    "    main()\n"
   ]
  },
  {
   "cell_type": "markdown",
   "metadata": {},
   "source": [
    "* Write a function called print_ones_digit , which takes as a parameter an integer num and prints its ones digit. The modulo (remainder) operator, %, should be helpful to you here. Call your function from main()!"
   ]
  },
  {
   "cell_type": "code",
   "execution_count": 28,
   "metadata": {},
   "outputs": [
    {
     "name": "stdout",
     "output_type": "stream",
     "text": [
      "the number is : 95\n",
      "The ones digit is 5\n",
      "The tens digit is 9\n",
      "The hundreds digit is 0\n"
     ]
    }
   ],
   "source": [
    "def print_digits(num):\n",
    "    ones_digit = num % 10  # Gets the ones digit\n",
    "    tens_digit = (num // 10) % 10  # Gets the tens digit\n",
    "    hundreds_digit = (num // 100) % 10  # Gets the hundreds digit\n",
    "    \n",
    "    print(f\"The ones digit is {ones_digit}\")\n",
    "    print(f\"The tens digit is {tens_digit}\")\n",
    "    print(f\"The hundreds digit is {hundreds_digit}\")\n",
    "\n",
    "def main():\n",
    "    num = int(input(\"Enter a number: \"))\n",
    "    print(f\"the number is : {num}\")\n",
    "    print_digits(num)\n",
    "\n",
    "if __name__ == \"__main__\":\n",
    "    main()\n",
    "\n"
   ]
  }
 ],
 "metadata": {
  "kernelspec": {
   "display_name": "Python 3",
   "language": "python",
   "name": "python3"
  },
  "language_info": {
   "codemirror_mode": {
    "name": "ipython",
    "version": 3
   },
   "file_extension": ".py",
   "mimetype": "text/x-python",
   "name": "python",
   "nbconvert_exporter": "python",
   "pygments_lexer": "ipython3",
   "version": "3.13.2"
  }
 },
 "nbformat": 4,
 "nbformat_minor": 2
}
